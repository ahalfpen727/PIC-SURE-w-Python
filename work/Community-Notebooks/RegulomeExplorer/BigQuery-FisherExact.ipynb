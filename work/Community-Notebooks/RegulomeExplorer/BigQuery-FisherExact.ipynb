{
 "cells": [
  {
   "cell_type": "markdown",
   "metadata": {},
   "source": [
    "# Regulome Explorer  Fisher's exact test for categorical features\n",
    "Check out more notebooks at our ['Regulome Explorer Repository'](https://github.com/isb-cgc/Community-Notebooks/tree/master/RegulomeExplorer)!\n",
    "\n",
    "In this notebook we describe how Regulome Explorer uses the Fisher's exact test to compute the significance of associations between two categorical features. This test is used by Regulome Explorer when both features have only two categories, such as the presence or absence of Somatic mutations or the gender of the participants. \n",
    "\n",
    "To describe the implementation, we will use Somatic mutation data for two user defined genes. This data is read from a BigQuery table in the pancancer-atlas dataset. For reference, a description of the Fisher's exact can be found in the following link: http://mathworld.wolfram.com/FishersExactTest.html"
   ]
  },
  {
   "cell_type": "markdown",
   "metadata": {},
   "source": [
    "## Authenticate with Google  (IMPORTANT)\n",
    "The first step is to authorize access to BigQuery and the Google Cloud. For more information see ['Quick Start Guide to ISB-CGC'](https://isb-cancer-genomics-cloud.readthedocs.io/en/latest/sections/HowToGetStartedonISB-CGC.html) and alternative authentication methods can be found [here](https://googleapis.github.io/google-cloud-python/latest/core/auth.html)."
   ]
  },
  {
   "cell_type": "markdown",
   "metadata": {},
   "source": [
    "#### Import Python libraries"
   ]
  },
  {
   "cell_type": "code",
   "execution_count": 14,
   "metadata": {
    "collapsed": true
   },
   "outputs": [],
   "source": [
    "from google.cloud import bigquery\n",
    "import numpy as np\n",
    "import pandas as pd\n",
    "from scipy import stats\n",
    "import seaborn as sns\n",
    "import re_module.bq_functions as regulome"
   ]
  },
  {
   "cell_type": "markdown",
   "metadata": {},
   "source": [
    "## Userdefined Parameters\n",
    "The parameters for this experiment are the cancer type, the name of gene1 and the name of gene2 for which mutation information will be extracted.  "
   ]
  },
  {
   "cell_type": "code",
   "execution_count": 15,
   "metadata": {
    "collapsed": true
   },
   "outputs": [],
   "source": [
    "cancer_type = 'PAAD'\n",
    "mutation_name1 = 'KRAS'\n",
    "mutation_name2 = 'TP53'\n",
    "MinSampleSize = 10\n",
    "\n",
    "bqclient = bigquery.Client()"
   ]
  },
  {
   "cell_type": "markdown",
   "metadata": {},
   "source": [
    "## Data from BigQuery tables"
   ]
  },
  {
   "cell_type": "markdown",
   "metadata": {},
   "source": [
    "The first step is to select all participants in the selected study with a least one mutation."
   ]
  },
  {
   "cell_type": "code",
   "execution_count": 3,
   "metadata": {
    "collapsed": true
   },
   "outputs": [],
   "source": [
    "barcode_set = \"\"\"barcodes AS (\n",
    "   SELECT bcr_patient_barcode AS ParticipantBarcode   \n",
    "   FROM `pancancer-atlas.Filtered.clinical_PANCAN_patient_with_followup_filtered`\n",
    "   WHERE acronym = '{0}'       \n",
    ")\n",
    "\"\"\".format(cancer_type)"
   ]
  },
  {
   "cell_type": "markdown",
   "metadata": {},
   "source": [
    "Somatic mutation data for gene 1. The following string query will retrieve a table with patients with at least one Somatic mutation in the user defined gene ('mutation_name'). This information is extracted from the 'pancancer-atlas.Filtered.MC3_MAF_V5_one_per_tumor_sample' table, available in pancancer-atlas dataset. Notice that we only use samples in which FILTER = 'PASS'. "
   ]
  },
  {
   "cell_type": "code",
   "execution_count": 4,
   "metadata": {
    "collapsed": true
   },
   "outputs": [],
   "source": [
    "query_table1 = \"\"\"table1 AS (\n",
    "SELECT   \n",
    "   t1.ParticipantBarcode, \n",
    "   IF( t2.ParticipantBarcode is null, 'NO', 'YES') as data\n",
    "FROM\n",
    "   barcodes AS t1\n",
    "LEFT JOIN   \n",
    "   (\n",
    "   SELECT\n",
    "      ParticipantBarcode AS ParticipantBarcode\n",
    "   FROM `pancancer-atlas.Filtered.MC3_MAF_V5_one_per_tumor_sample`\n",
    "   WHERE Study = '{0}' AND Hugo_Symbol = '{1}'\n",
    "         AND FILTER = 'PASS'  \n",
    "   GROUP BY ParticipantBarcode\n",
    "   ) AS t2\n",
    "ON t1.ParticipantBarcode = t2.ParticipantBarcode\n",
    ")\n",
    "\"\"\".format(cancer_type, mutation_name1)"
   ]
  },
  {
   "cell_type": "markdown",
   "metadata": {},
   "source": [
    "The Somatic mutation data for gene 2 is retrieved using a similar query:"
   ]
  },
  {
   "cell_type": "code",
   "execution_count": 5,
   "metadata": {
    "collapsed": true
   },
   "outputs": [],
   "source": [
    "query_table2 = \"\"\"table2 AS (\n",
    "SELECT   \n",
    "   t1.ParticipantBarcode, \n",
    "   IF( t2.ParticipantBarcode is null, 'NO', 'YES') as data\n",
    "FROM\n",
    "   barcodes AS t1\n",
    "LEFT JOIN   \n",
    "   (\n",
    "   SELECT\n",
    "      ParticipantBarcode AS ParticipantBarcode\n",
    "   FROM `pancancer-atlas.Filtered.MC3_MAF_V5_one_per_tumor_sample`\n",
    "   WHERE Study = '{0}' AND Hugo_Symbol = '{1}'\n",
    "         AND FILTER = 'PASS'  \n",
    "   GROUP BY ParticipantBarcode\n",
    "   ) AS t2\n",
    "ON t1.ParticipantBarcode = t2.ParticipantBarcode\n",
    ")\n",
    "\"\"\".format(cancer_type, mutation_name2)"
   ]
  },
  {
   "cell_type": "markdown",
   "metadata": {},
   "source": [
    "The following query combines the two tables based on Participant barcodes. Nij is the number of participants for each pair of categories. data1 (data2) column is the Somatic Mutations for gene1 (gene2). 'YES' for pariticpants with mutation and 'NO' otherwise.   "
   ]
  },
  {
   "cell_type": "code",
   "execution_count": 16,
   "metadata": {
    "collapsed": true
   },
   "outputs": [],
   "source": [
    "query_summarize = \"\"\"summ_table AS (\n",
    "SELECT \n",
    "   n1.data as data1,\n",
    "   n2.data as data2,\n",
    "   COUNT(*) as Nij\n",
    "FROM\n",
    "   table1 AS n1\n",
    "INNER JOIN\n",
    "   table2 AS n2\n",
    "ON\n",
    "   n1.ParticipantBarcode = n2.ParticipantBarcode\n",
    "GROUP BY\n",
    "  data1, data2\n",
    ") \n",
    "\"\"\".format(str(MinSampleSize) )"
   ]
  },
  {
   "cell_type": "markdown",
   "metadata": {},
   "source": [
    "At this point we can take a look at output table, where the column **Nij** is the number of participants for each pair of categorical values."
   ]
  },
  {
   "cell_type": "code",
   "execution_count": 7,
   "metadata": {},
   "outputs": [
    {
     "name": "stdout",
     "output_type": "stream",
     "text": [
      "\n",
      " in runQuery ... \n",
      "    the results for this query were previously cached \n"
     ]
    },
    {
     "data": {
      "text/html": [
       "<div>\n",
       "<style scoped>\n",
       "    .dataframe tbody tr th:only-of-type {\n",
       "        vertical-align: middle;\n",
       "    }\n",
       "\n",
       "    .dataframe tbody tr th {\n",
       "        vertical-align: top;\n",
       "    }\n",
       "\n",
       "    .dataframe thead th {\n",
       "        text-align: right;\n",
       "    }\n",
       "</style>\n",
       "<table border=\"1\" class=\"dataframe\">\n",
       "  <thead>\n",
       "    <tr style=\"text-align: right;\">\n",
       "      <th></th>\n",
       "      <th>data1</th>\n",
       "      <th>data2</th>\n",
       "      <th>Nij</th>\n",
       "    </tr>\n",
       "  </thead>\n",
       "  <tbody>\n",
       "    <tr>\n",
       "      <th>0</th>\n",
       "      <td>NO</td>\n",
       "      <td>NO</td>\n",
       "      <td>50</td>\n",
       "    </tr>\n",
       "    <tr>\n",
       "      <th>1</th>\n",
       "      <td>NO</td>\n",
       "      <td>YES</td>\n",
       "      <td>17</td>\n",
       "    </tr>\n",
       "    <tr>\n",
       "      <th>2</th>\n",
       "      <td>YES</td>\n",
       "      <td>YES</td>\n",
       "      <td>90</td>\n",
       "    </tr>\n",
       "    <tr>\n",
       "      <th>3</th>\n",
       "      <td>YES</td>\n",
       "      <td>NO</td>\n",
       "      <td>27</td>\n",
       "    </tr>\n",
       "  </tbody>\n",
       "</table>\n",
       "</div>"
      ],
      "text/plain": [
       "  data1 data2  Nij\n",
       "0    NO    NO   50\n",
       "1    NO   YES   17\n",
       "2   YES   YES   90\n",
       "3   YES    NO   27"
      ]
     },
     "execution_count": 7,
     "metadata": {},
     "output_type": "execute_result"
    }
   ],
   "source": [
    "sql_data = 'WITH\\n' + barcode_set+','+query_table1+','+query_table2+','+query_summarize \n",
    "\n",
    "sql = (sql_data + '\\n' +\n",
    "\"\"\"SELECT * FROM summ_table \n",
    "   ORDER BY  data1\n",
    "\"\"\")\n",
    "\n",
    "df_data = regulome.runQuery ( bqclient, sql, [] , dryRun=False )\n",
    "df_data"
   ]
  },
  {
   "cell_type": "markdown",
   "metadata": {},
   "source": [
    "We can use a 'catplot' to visualize the populations in each category. "
   ]
  },
  {
   "cell_type": "code",
   "execution_count": 8,
   "metadata": {},
   "outputs": [
    {
     "data": {
      "text/plain": [
       "<seaborn.axisgrid.FacetGrid at 0x1a1c582e48>"
      ]
     },
     "execution_count": 8,
     "metadata": {},
     "output_type": "execute_result"
    },
    {
     "data": {
      "image/png": "[encoded data removed]",
      "text/plain": [
       "<Figure size 256.1x288 with 1 Axes>"
      ]
     },
     "metadata": {
      "needs_background": "light"
     },
     "output_type": "display_data"
    }
   ],
   "source": [
    "df_data.rename(columns={ \"data1\": mutation_name1, \"data2\": mutation_name2 }, inplace=True)\n",
    "sns.catplot(y=mutation_name1, x=\"Nij\",hue=mutation_name2,data=df_data, kind=\"bar\",height=4, aspect=.7)"
   ]
  },
  {
   "cell_type": "markdown",
   "metadata": {},
   "source": [
    "##  Compute the statistics \n",
    "After sumarizing the data in the table above, we are in the position to perform the 2-sided Fisher's Exact test for the null hypothesis that no nonrandom associations exist between the two categorical variables (Somatic mutations). For clarity we consider the following 2x2 contingency table.\n",
    "\n",
    "|-         |-     |Gene2|    |\n",
    "|:--       |:-- |:--- |:---|\n",
    "|-         |-    |YES  |NO  |\n",
    "|**Gene1** |YES |$a$    |$b$   |\n",
    "|-          |NO  |$c$    |$d$   | \n",
    "\n",
    "To compute the p-Value of the Fisher's test, we need to compute the Hypergeometric distribution:\n",
    "\n",
    "$$Pr(x) = \\frac{(a+b)!(c+d)!(a+c)!(b+d)! }{x!(a+b-x)!(a+c-x)!(d-a+x)!n!} $$\n",
    "\n",
    "Where $n=a+b+c+d$. The p-Value is then computed by:\n",
    "\n",
    "$$p_{FET}(a,b,c,d) = \\sum_{x} Pr(x) \\ I\\left[ Pr(x) \\leq Pr(a) \\right]  $$\n",
    "\n",
    "Efficient computation of  $p_{FET}$ using BigQuery commands would be very difficult due to the factorials. Instead we take advantage of the possibility of implementing User-Defined Functions using JavaScript. The following string contains a JavaScript function (pFisherExact) that computes $p_{FET}$.\n",
    " "
   ]
  },
  {
   "cell_type": "code",
   "execution_count": 9,
   "metadata": {
    "collapsed": true
   },
   "outputs": [],
   "source": [
    "query_expected=\"\"\"\n",
    "CREATE TEMP FUNCTION pFisherExact(a FLOAT64, b FLOAT64, c FLOAT64, d FLOAT64)\n",
    "RETURNS FLOAT64\n",
    "LANGUAGE js AS \\\"\\\"\\\"\n",
    "  function LnHyperGeometric( a_LnF, a, b, c, d) {\n",
    "      return  a_LnF[a+b] + a_LnF[c+d] + a_LnF[a+c] + a_LnF[b+d] - a_LnF[a] - a_LnF[b] - a_LnF[c] - a_LnF[d] - a_LnF[a + b + c + d]  \n",
    "  }\n",
    "  \n",
    "  var n = Math.round(a + b + c + d);\n",
    "  var LnFact = Array(n).fill(0);\n",
    "  \n",
    "  for (i = 1; i <= n; i++) {\n",
    "     LnFact[i] = LnFact[i-1] + Math.log(i)  ;\n",
    "  }\n",
    "  \n",
    "  var LnPra = LnHyperGeometric( LnFact, a, b, c, d) ;\n",
    "  var temp = 0\n",
    "  \n",
    "  for (x = 1; x <= n; x++) {\n",
    "     if ( ( a+b-x >= 0 ) && ( a+c-x >= 0 ) && ( d-a+x >= 0 ) ) {\n",
    "        var LnPrx = LnHyperGeometric( LnFact, x , a+b-x, a+c-x, d-a+x) ;\n",
    "      \n",
    "        if ( LnPrx <= LnPra ) { \n",
    "            temp = temp + Math.exp( LnPrx - LnPra );\n",
    "        }         \n",
    "     }\n",
    "  }\n",
    "  \n",
    "  var LnPFET = LnPra  + Math.log( temp );\n",
    "  return  Math.exp( LnPFET ) ;\n",
    "\\\"\\\"\\\";\n",
    "\"\"\"\n"
   ]
  },
  {
   "cell_type": "markdown",
   "metadata": {},
   "source": [
    "The following BigQuery string computes $a$, $b$, $c$, and $d$ as indicated above and then uses our JavaScrip function to compute the p-Value of the Fisher exact test.  "
   ]
  },
  {
   "cell_type": "code",
   "execution_count": 10,
   "metadata": {},
   "outputs": [
    {
     "name": "stdout",
     "output_type": "stream",
     "text": [
      "\n",
      " in runQuery ... \n",
      "    this query processed 71183110 bytes \n",
      "    Approx. elpased time : 2775 miliseconds \n"
     ]
    },
    {
     "data": {
      "text/html": [
       "<div>\n",
       "<style scoped>\n",
       "    .dataframe tbody tr th:only-of-type {\n",
       "        vertical-align: middle;\n",
       "    }\n",
       "\n",
       "    .dataframe tbody tr th {\n",
       "        vertical-align: top;\n",
       "    }\n",
       "\n",
       "    .dataframe thead th {\n",
       "        text-align: right;\n",
       "    }\n",
       "</style>\n",
       "<table border=\"1\" class=\"dataframe\">\n",
       "  <thead>\n",
       "    <tr style=\"text-align: right;\">\n",
       "      <th></th>\n",
       "      <th>a</th>\n",
       "      <th>b</th>\n",
       "      <th>c</th>\n",
       "      <th>d</th>\n",
       "      <th>pValue</th>\n",
       "    </tr>\n",
       "  </thead>\n",
       "  <tbody>\n",
       "    <tr>\n",
       "      <th>0</th>\n",
       "      <td>90</td>\n",
       "      <td>27</td>\n",
       "      <td>17</td>\n",
       "      <td>50</td>\n",
       "      <td>8.046829e-12</td>\n",
       "    </tr>\n",
       "  </tbody>\n",
       "</table>\n",
       "</div>"
      ],
      "text/plain": [
       "    a   b   c   d        pValue\n",
       "0  90  27  17  50  8.046829e-12"
      ]
     },
     "execution_count": 10,
     "metadata": {},
     "output_type": "execute_result"
    }
   ],
   "source": [
    "query_fishertest = \"\"\"\n",
    "SELECT a,b,c,d,\n",
    "       pFisherExact(a,b,c,d) as pValue\n",
    "FROM (\n",
    "SELECT \n",
    "  MAX( IF( (data1='YES') AND (data2='YES'), Nij, NULL ) ) as a ,\n",
    "  MAX( IF( (data1='YES') AND (data2='NO') , Nij, NULL ) ) as b ,\n",
    "  MAX( IF( (data1='NO') AND (data2='YES') , Nij, NULL ) ) as c ,\n",
    "  MAX( IF( (data1='NO') AND (data2='NO')  , Nij, NULL ) )  as d \n",
    "FROM summ_table \n",
    ")\n",
    "WHERE a IS NOT NULL AND b IS NOT NULL AND c IS NOT NULL AND d IS NOT NULL \n",
    "\"\"\"\n",
    "\n",
    "sql = ( query_expected  + sql_data +  query_fishertest )\n",
    "df_results = regulome.runQuery ( bqclient, sql, [] , dryRun=False )\n",
    "df_results"
   ]
  },
  {
   "cell_type": "markdown",
   "metadata": {},
   "source": [
    "To test our implementation we can use the 'fisher_exact' function available in python"
   ]
  },
  {
   "cell_type": "code",
   "execution_count": 17,
   "metadata": {},
   "outputs": [
    {
     "data": {
      "text/plain": [
       "8.046828829097227e-12"
      ]
     },
     "execution_count": 17,
     "metadata": {},
     "output_type": "execute_result"
    }
   ],
   "source": [
    "a = df_results['a'][0]\n",
    "b = df_results['b'][0]\n",
    "c = df_results['c'][0]\n",
    "d = df_results['d'][0]\n",
    "\n",
    "oddsratio, pvalue = stats.fisher_exact([[a, b], [c, d]])\n",
    "pvalue"
   ]
  },
  {
   "cell_type": "code",
   "execution_count": null,
   "metadata": {
    "collapsed": true
   },
   "outputs": [],
   "source": []
  }
 ],
 "metadata": {
  "kernelspec": {
   "display_name": "Python 3",
   "language": "python",
   "name": "python3"
  },
  "language_info": {
   "codemirror_mode": {
    "name": "ipython",
    "version": 3
   },
   "file_extension": ".py",
   "mimetype": "text/x-python",
   "name": "python",
   "nbconvert_exporter": "python",
   "pygments_lexer": "ipython3",
   "version": "3.5.4"
  }
 },
 "nbformat": 4,
 "nbformat_minor": 2
}
