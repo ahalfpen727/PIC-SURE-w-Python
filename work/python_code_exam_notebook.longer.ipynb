{
 "cells": [
  {
   "cell_type": "markdown",
   "metadata": {},
   "source": [
    "# PIC-SURE API Biomedical Informatics Systems Analyst Code Test"
   ]
  },
  {
   "attachments": {
    "image-2.png": {
     "image/png": "[encoded data removed]"
    },
    "image.png": {
     "image/png": "[encoded data removed]"
    }
   },
   "cell_type": "markdown",
   "metadata": {},
   "source": [
    "## Introduction\n",
    "\n",
    "A key component to this role is to help our team develop ways to enable research without exporting the data and to help users(mostly researchers) to use those functions of the API to perform research tasks. These problems are designed to test your proficiency in Python and your ability to think creatively about solving a problem in a new way.\n",
    "\n",
    "We will start with an introduction to the PIC-SURE API and introduce all of the basic operations that should be required to answer the code test.\n",
    "\n",
    "At any point if you wish to try things out, or to answer the code test challenges when you get to them, these JupyterHub features will be useful:\n",
    "\n",
    "This button in the toolbar above allows you to add a new cell after the selected cell : ![image.png](attachment:image.png)\n",
    "\n",
    "This dropdown in the toolbar above allows you to change the type of the selected cell : ![image-2.png](attachment:image-2.png)\n",
    "\n",
    "### Because this is a code test and should not take you a long time to complete, we are not judging you on scientific or statistical rigor. The code test will be graded based on how you use the API to answer the challenge problems at the end of the notebook."
   ]
  },
  {
   "cell_type": "markdown",
   "metadata": {},
   "source": [
    "## PIC-SURE python API \n",
    "### What is PIC-SURE? \n",
    "\n",
    "<!--img src=\"./img/PIC-SURE_logo.png\" width= \"360px\"> -->\n",
    "\n",
    "As part of the BioData Catalyst initiative, the Patient Information Commons Standard Unification of Research Elements (PIC-SURE) platform has been integrating clinical and genomic datasets from multiple TOPMed and TOPMed related studies funded by the National Heart Lung and Blood Institute (NHLBI). \n",
    "\n",
    "### PIC-SURE Client Libraries\n",
    "Two sets of client libraries are avaialable for the PIC-SURE API, python and R, helping investigators to query the datasets using either of those languages.\n",
    "\n",
    "PIC-SURE is a larger project from which the R/python PIC-SURE API is only a single component. Among other things, PIC-SURE also offers a graphical user interface that allows researchers to explore variables across multiple studies, filter patient that match criteria, and create cohort from this interactive exploration.\n",
    "\n",
    "The python API is actively developed by the Avillach-Lab at Harvard Medical School.\n",
    "\n",
    "PIC-SURE API GitHub repo:\n",
    "* https://github.com/hms-dbmi/pic-sure-python-adapter-hpds\n",
    "* https://github.com/hms-dbmi/pic-sure-python-client\n",
    "\n"
   ]
  },
  {
   "cell_type": "markdown",
   "metadata": {},
   "source": [
    " -------   "
   ]
  },
  {
   "cell_type": "markdown",
   "metadata": {},
   "source": [
    "### Packages installation\n",
    "\n",
    "Installation of the packages listed in the `requirements.txt` file, as well as the two components of the PIC-SURE API from GitHub, that is the PIC-SURE adapter and the PIC-SURE Client."
   ]
  },
  {
   "cell_type": "code",
   "execution_count": 5,
   "metadata": {},
   "outputs": [
    {
     "name": "stdout",
     "output_type": "stream",
     "text": [
      "/home/drew/Downloads/PIC-SURE\n",
      "numpy==1.16.4\n",
      "matplotlib>=3.1.1\n",
      "pandas>=0.25.3\n",
      "scipy>=1.3.1\n",
      "tqdm>=4.38.0\n",
      "statsmodels>=0.10.2\n"
     ]
    }
   ],
   "source": [
    "%%bash\n",
    "pwd\n",
    "cat requirements.txt\n",
    "\n",
    "!python3 -m pip install --upgrade pip\n",
    "\n",
    "import sys\n",
    "sys.path\n",
    "!{sys.executable} -m pip install --upgrade --force-reinstall git+https://github.com/hms-dbmi/pic-sure-python-adapter-hpds.git\n",
    "!{sys.executable} -m pip install --upgrade --force-reinstall git+https://github.com/hms-dbmi/pic-sure-python-client.git"
   ]
  },
  {
   "cell_type": "markdown",
   "metadata": {},
   "source": [
    "Import all the external dependencies, as well as user-defined functions stored in the `python_lib` folder"
   ]
  },
  {
   "cell_type": "code",
   "execution_count": 24,
   "metadata": {},
   "outputs": [],
   "source": [
    "import json\n",
    "from pprint import pprint\n",
    "\n",
    "import pandas as pd\n",
    "import numpy as np \n",
    "import matplotlib.pyplot as plt\n",
    "from scipy import stats\n",
    "\n",
    "import PicSureHpdsLib\n",
    "import PicSureClient\n",
    "\n",
    "from utils import get_multiIndex_variablesDict, joining_variablesDict_onCol"
   ]
  },
  {
   "cell_type": "markdown",
   "metadata": {},
   "source": [
    "##### Setting the display parameter for tables and plots"
   ]
  },
  {
   "cell_type": "code",
   "execution_count": 25,
   "metadata": {},
   "outputs": [],
   "source": [
    "# Pandas DataFrame display options\n",
    "pd.set_option(\"max.rows\", 435)\n",
    "\n",
    "# Matplotlib parameters options\n",
    "fig_size = plt.rcParams[\"figure.figsize\"]\n",
    " \n",
    "# Prints: [8.0, 6.0]\n",
    "fig_size[0] = 14\n",
    "fig_size[1] = 8\n",
    "plt.rcParams[\"figure.figsize\"] = fig_size\n",
    "\n",
    "font = {'weight' : 'bold',\n",
    "        'size'   : 12}\n",
    "\n",
    "plt.rc('font', **font)"
   ]
  },
  {
   "cell_type": "markdown",
   "metadata": {},
   "source": [
    "## Connecting to a PIC-SURE resource"
   ]
  },
  {
   "cell_type": "markdown",
   "metadata": {},
   "source": [
    "Several information are required to get access to data through the PIC-SURE API: a network URL, a resource id, and a user-specific security token."
   ]
  },
  {
   "cell_type": "code",
   "execution_count": 28,
   "metadata": {},
   "outputs": [],
   "source": [
    "PICSURE_network_URL = \"https://3.236.133.248/picsure\"\n",
    "resource_id = \"d39ae852-e22e-45d5-a7b2-6056ac54580f\"\n",
    "token_file = \"token.txt\""
   ]
  },
  {
   "cell_type": "code",
   "execution_count": 29,
   "metadata": {},
   "outputs": [],
   "source": [
    "with open(token_file, \"r\") as f:\n",
    "    my_token = f.read()"
   ]
  },
  {
   "cell_type": "code",
   "execution_count": 30,
   "metadata": {},
   "outputs": [
    {
     "name": "stdout",
     "output_type": "stream",
     "text": [
      "\u001b[38;5;91;40m\n",
      "\n",
      "+=========================================================================================+\n",
      "|        [ WARNING ] you are specifying that you WANT to allow self-signed SSL            |\n",
      "|        certificates to be acceptable for connections.  This may be useful for           |\n",
      "|        working in a development environment or on systems that host public              |\n",
      "|        data.  BEST SECURITY PRACTICES ARE THAT IF YOU ARE WORKING WITH SENSITIVE        |\n",
      "|        DATA THEN ALL SSL CERTS BY THOSE EVIRONMENTS SHOULD NOT BE SELF-SIGNED.          |\n",
      "+=========================================================================================+\n",
      "\u001b[39;49m\n",
      "+--------------------------------------+------------------------------------------------------\n",
      "|  Resource UUID                       |  Resource Name                                  \n",
      "+--------------------------------------+------------------------------------------------------\n",
      "| d39ae852-e22e-45d5-a7b2-6056ac54580f\n",
      "+--------------------------------------+------------------------------------------------------\n"
     ]
    }
   ],
   "source": [
    "client = PicSureClient.Client()\n",
    "connection = client.connect(PICSURE_network_URL, my_token, True)\n",
    "adapter = PicSureHpdsLib.Adapter(connection)\n",
    "resource = adapter.useResource(resource_id)"
   ]
  },
  {
   "cell_type": "markdown",
   "metadata": {},
   "source": [
    "Two objects are created here: a `connection` and a `resource` object.\n",
    "\n",
    "As we will only be using one single resource, **the `resource` object is actually the only one we will need to proceed with data analysis hereafter**. \n",
    "\n",
    "It is connected to the specific data source ID we specified, and enables to query and retrieve data from this database."
   ]
  },
  {
   "cell_type": "markdown",
   "metadata": {},
   "source": [
    "## Getting help with the PIC-SURE API"
   ]
  },
  {
   "cell_type": "markdown",
   "metadata": {},
   "source": [
    "Each object exposed by the PicSureHpdsLib library got a `help()` method. Calling it will without parameters print out an information about functionalities of this object. "
   ]
  },
  {
   "cell_type": "code",
   "execution_count": 31,
   "metadata": {},
   "outputs": [
    {
     "name": "stdout",
     "output_type": "stream",
     "text": [
      "\n",
      "        [HELP] PicSureHpdsLib.useResource(resource_uuid)\n",
      "            .dictionary()       Used to access data dictionary of the resource\n",
      "            .query()            Used to query against data in the resource\n",
      "            .retrieveQueryResults(query_uuid) returns the results of an asynchronous query that has already been submitted to PICSURE\n",
      "\n",
      "        [ENVIRONMENT]\n",
      "              Endpoint URL: https://3.236.133.248/picsure/\n",
      "             Resource UUID: d39ae852-e22e-45d5-a7b2-6056ac54580f\n"
     ]
    }
   ],
   "source": [
    "resource.help()"
   ]
  },
  {
   "cell_type": "code",
   "execution_count": 33,
   "metadata": {},
   "outputs": [
    {
     "data": {
      "text/html": [
       "<div>\n",
       "<style scoped>\n",
       "    .dataframe tbody tr th:only-of-type {\n",
       "        vertical-align: middle;\n",
       "    }\n",
       "\n",
       "    .dataframe tbody tr th {\n",
       "        vertical-align: top;\n",
       "    }\n",
       "\n",
       "    .dataframe thead th {\n",
       "        text-align: right;\n",
       "    }\n",
       "</style>\n",
       "<table border=\"1\" class=\"dataframe\">\n",
       "  <thead>\n",
       "    <tr style=\"text-align: right;\">\n",
       "      <th></th>\n",
       "      <th></th>\n",
       "      <th></th>\n",
       "      <th></th>\n",
       "      <th>simplified_name</th>\n",
       "      <th>name</th>\n",
       "      <th>observationCount</th>\n",
       "      <th>categorical</th>\n",
       "      <th>categoryValues</th>\n",
       "      <th>nb_modalities</th>\n",
       "      <th>min</th>\n",
       "      <th>max</th>\n",
       "      <th>HpdsDataType</th>\n",
       "    </tr>\n",
       "    <tr>\n",
       "      <th>level_0</th>\n",
       "      <th>level_1</th>\n",
       "      <th>level_2</th>\n",
       "      <th>level_3</th>\n",
       "      <th></th>\n",
       "      <th></th>\n",
       "      <th></th>\n",
       "      <th></th>\n",
       "      <th></th>\n",
       "      <th></th>\n",
       "      <th></th>\n",
       "      <th></th>\n",
       "      <th></th>\n",
       "    </tr>\n",
       "  </thead>\n",
       "  <tbody>\n",
       "    <tr>\n",
       "      <th rowspan=\"3\" valign=\"top\">questionnaire</th>\n",
       "      <th rowspan=\"3\" valign=\"top\">disease</th>\n",
       "      <th>Current asthma?</th>\n",
       "      <th>NaN</th>\n",
       "      <td>Current asthma?</td>\n",
       "      <td>\\questionnaire\\disease\\Current asthma?\\</td>\n",
       "      <td>8971</td>\n",
       "      <td>True</td>\n",
       "      <td>[No, Yes]</td>\n",
       "      <td>2.0</td>\n",
       "      <td>NaN</td>\n",
       "      <td>NaN</td>\n",
       "      <td>phenotypes</td>\n",
       "    </tr>\n",
       "    <tr>\n",
       "      <th>Ever asthma?</th>\n",
       "      <th>NaN</th>\n",
       "      <td>Ever asthma?</td>\n",
       "      <td>\\questionnaire\\disease\\Ever asthma?\\</td>\n",
       "      <td>9499</td>\n",
       "      <td>True</td>\n",
       "      <td>[No, Yes]</td>\n",
       "      <td>2.0</td>\n",
       "      <td>NaN</td>\n",
       "      <td>NaN</td>\n",
       "      <td>phenotypes</td>\n",
       "    </tr>\n",
       "    <tr>\n",
       "      <th>lung_cancer_self_report</th>\n",
       "      <th>NaN</th>\n",
       "      <td>lung_cancer_self_report</td>\n",
       "      <td>\\questionnaire\\disease\\lung_cancer_self_report\\</td>\n",
       "      <td>4486</td>\n",
       "      <td>True</td>\n",
       "      <td>[No, Yes]</td>\n",
       "      <td>2.0</td>\n",
       "      <td>NaN</td>\n",
       "      <td>NaN</td>\n",
       "      <td>phenotypes</td>\n",
       "    </tr>\n",
       "  </tbody>\n",
       "</table>\n",
       "</div>"
      ],
      "text/plain": [
       "                                                               simplified_name  \\\n",
       "level_0       level_1 level_2                 level_3                            \n",
       "questionnaire disease Current asthma?         NaN              Current asthma?   \n",
       "                      Ever asthma?            NaN                 Ever asthma?   \n",
       "                      lung_cancer_self_report NaN      lung_cancer_self_report   \n",
       "\n",
       "                                                                                                  name  \\\n",
       "level_0       level_1 level_2                 level_3                                                    \n",
       "questionnaire disease Current asthma?         NaN              \\questionnaire\\disease\\Current asthma?\\   \n",
       "                      Ever asthma?            NaN                 \\questionnaire\\disease\\Ever asthma?\\   \n",
       "                      lung_cancer_self_report NaN      \\questionnaire\\disease\\lung_cancer_self_report\\   \n",
       "\n",
       "                                                       observationCount  \\\n",
       "level_0       level_1 level_2                 level_3                     \n",
       "questionnaire disease Current asthma?         NaN                  8971   \n",
       "                      Ever asthma?            NaN                  9499   \n",
       "                      lung_cancer_self_report NaN                  4486   \n",
       "\n",
       "                                                       categorical  \\\n",
       "level_0       level_1 level_2                 level_3                \n",
       "questionnaire disease Current asthma?         NaN             True   \n",
       "                      Ever asthma?            NaN             True   \n",
       "                      lung_cancer_self_report NaN             True   \n",
       "\n",
       "                                                      categoryValues  \\\n",
       "level_0       level_1 level_2                 level_3                  \n",
       "questionnaire disease Current asthma?         NaN          [No, Yes]   \n",
       "                      Ever asthma?            NaN          [No, Yes]   \n",
       "                      lung_cancer_self_report NaN          [No, Yes]   \n",
       "\n",
       "                                                       nb_modalities  min  \\\n",
       "level_0       level_1 level_2                 level_3                       \n",
       "questionnaire disease Current asthma?         NaN                2.0  NaN   \n",
       "                      Ever asthma?            NaN                2.0  NaN   \n",
       "                      lung_cancer_self_report NaN                2.0  NaN   \n",
       "\n",
       "                                                       max HpdsDataType  \n",
       "level_0       level_1 level_2                 level_3                    \n",
       "questionnaire disease Current asthma?         NaN      NaN   phenotypes  \n",
       "                      Ever asthma?            NaN      NaN   phenotypes  \n",
       "                      lung_cancer_self_report NaN      NaN   phenotypes  "
      ]
     },
     "execution_count": 33,
     "metadata": {},
     "output_type": "execute_result"
    }
   ],
   "source": [
    "plain_variablesDict= resource.dictionary().find()\n",
    "VariablesDict = plain_variablesDict.DataFrame()\n",
    "variablesDict = get_multiIndex_variablesDict(VariablesDict)\n",
    "\n",
    "mask_age = variablesDict.index.get_level_values(1) == \"AGE\"\n",
    "#age_disease_variables = lung_disease_variables.loc[mask_age]\n",
    "\n",
    "mask_disease = variablesDict.index.get_level_values(1) == \"disease\"\n",
    "mask_age = variablesDict.index.get_level_values(1) == \"AGE\"\n",
    "mask_current_asthma = variablesDict.index.get_level_values(2) == \"Current asthma?\"\n",
    "mask_ever_asthma = variablesDict.index.get_level_values(2) == \"Ever asthma?\"\n",
    "mask_lung_cancer = variablesDict.index.get_level_values(2) == \"lung_cancer_self_report\"\n",
    "lung_disease_variables = variablesDict.loc[mask_current_asthma | mask_ever_asthma | mask_lung_cancer,:]\n",
    "lung_disease_variables\n"
   ]
  },
  {
   "cell_type": "code",
   "execution_count": 57,
   "metadata": {},
   "outputs": [
    {
     "data": {
      "text/html": [
       "<div>\n",
       "<style scoped>\n",
       "    .dataframe tbody tr th:only-of-type {\n",
       "        vertical-align: middle;\n",
       "    }\n",
       "\n",
       "    .dataframe tbody tr th {\n",
       "        vertical-align: top;\n",
       "    }\n",
       "\n",
       "    .dataframe thead th {\n",
       "        text-align: right;\n",
       "    }\n",
       "</style>\n",
       "<table border=\"1\" class=\"dataframe\">\n",
       "  <thead>\n",
       "    <tr style=\"text-align: right;\">\n",
       "      <th></th>\n",
       "      <th></th>\n",
       "      <th></th>\n",
       "      <th></th>\n",
       "      <th>simplified_name</th>\n",
       "      <th>name</th>\n",
       "      <th>observationCount</th>\n",
       "      <th>categorical</th>\n",
       "      <th>categoryValues</th>\n",
       "      <th>nb_modalities</th>\n",
       "      <th>min</th>\n",
       "      <th>max</th>\n",
       "      <th>HpdsDataType</th>\n",
       "    </tr>\n",
       "    <tr>\n",
       "      <th>level_0</th>\n",
       "      <th>level_1</th>\n",
       "      <th>level_2</th>\n",
       "      <th>level_3</th>\n",
       "      <th></th>\n",
       "      <th></th>\n",
       "      <th></th>\n",
       "      <th></th>\n",
       "      <th></th>\n",
       "      <th></th>\n",
       "      <th></th>\n",
       "      <th></th>\n",
       "      <th></th>\n",
       "    </tr>\n",
       "  </thead>\n",
       "  <tbody>\n",
       "    <tr>\n",
       "      <th>SUBJECT_ID</th>\n",
       "      <th>NaN</th>\n",
       "      <th>NaN</th>\n",
       "      <th>NaN</th>\n",
       "      <td>SUBJECT_ID</td>\n",
       "      <td>SUBJECT_ID\\</td>\n",
       "      <td>9999</td>\n",
       "      <td>False</td>\n",
       "      <td>None</td>\n",
       "      <td>NaN</td>\n",
       "      <td>2.0</td>\n",
       "      <td>41472.000000</td>\n",
       "      <td>phenotypes</td>\n",
       "    </tr>\n",
       "    <tr>\n",
       "      <th rowspan=\"4\" valign=\"top\">demographics</th>\n",
       "      <th>AGE</th>\n",
       "      <th>NaN</th>\n",
       "      <th>NaN</th>\n",
       "      <td>AGE</td>\n",
       "      <td>\\demographics\\AGE\\</td>\n",
       "      <td>9999</td>\n",
       "      <td>False</td>\n",
       "      <td>None</td>\n",
       "      <td>NaN</td>\n",
       "      <td>0.0</td>\n",
       "      <td>85.000000</td>\n",
       "      <td>phenotypes</td>\n",
       "    </tr>\n",
       "    <tr>\n",
       "      <th>DMDBORN</th>\n",
       "      <th>NaN</th>\n",
       "      <th>NaN</th>\n",
       "      <td>DMDBORN</td>\n",
       "      <td>\\demographics\\DMDBORN\\</td>\n",
       "      <td>9992</td>\n",
       "      <td>False</td>\n",
       "      <td>None</td>\n",
       "      <td>NaN</td>\n",
       "      <td>1.0</td>\n",
       "      <td>3.000000</td>\n",
       "      <td>phenotypes</td>\n",
       "    </tr>\n",
       "    <tr>\n",
       "      <th>DMDMARTL</th>\n",
       "      <th>NaN</th>\n",
       "      <th>NaN</th>\n",
       "      <td>DMDMARTL</td>\n",
       "      <td>\\demographics\\DMDMARTL\\</td>\n",
       "      <td>6458</td>\n",
       "      <td>False</td>\n",
       "      <td>None</td>\n",
       "      <td>NaN</td>\n",
       "      <td>1.0</td>\n",
       "      <td>77.000000</td>\n",
       "      <td>phenotypes</td>\n",
       "    </tr>\n",
       "    <tr>\n",
       "      <th>INDFMPIR</th>\n",
       "      <th>NaN</th>\n",
       "      <th>NaN</th>\n",
       "      <td>INDFMPIR</td>\n",
       "      <td>\\demographics\\INDFMPIR\\</td>\n",
       "      <td>9199</td>\n",
       "      <td>False</td>\n",
       "      <td>None</td>\n",
       "      <td>NaN</td>\n",
       "      <td>0.0</td>\n",
       "      <td>5.000000</td>\n",
       "      <td>phenotypes</td>\n",
       "    </tr>\n",
       "    <tr>\n",
       "      <th>...</th>\n",
       "      <th>...</th>\n",
       "      <th>...</th>\n",
       "      <th>...</th>\n",
       "      <td>...</td>\n",
       "      <td>...</td>\n",
       "      <td>...</td>\n",
       "      <td>...</td>\n",
       "      <td>...</td>\n",
       "      <td>...</td>\n",
       "      <td>...</td>\n",
       "      <td>...</td>\n",
       "      <td>...</td>\n",
       "    </tr>\n",
       "    <tr>\n",
       "      <th rowspan=\"5\" valign=\"top\">questionnaire</th>\n",
       "      <th rowspan=\"3\" valign=\"top\">supplement use</th>\n",
       "      <th>VITAMIN_C_Unknown</th>\n",
       "      <th>NaN</th>\n",
       "      <td>VITAMIN_C_Unknown</td>\n",
       "      <td>\\questionnaire\\supplement use\\VITAMIN_C_Unknown\\</td>\n",
       "      <td>5059</td>\n",
       "      <td>False</td>\n",
       "      <td>None</td>\n",
       "      <td>NaN</td>\n",
       "      <td>0.0</td>\n",
       "      <td>0.933333</td>\n",
       "      <td>phenotypes</td>\n",
       "    </tr>\n",
       "    <tr>\n",
       "      <th>VITAMIN_C_mg</th>\n",
       "      <th>NaN</th>\n",
       "      <td>VITAMIN_C_mg</td>\n",
       "      <td>\\questionnaire\\supplement use\\VITAMIN_C_mg\\</td>\n",
       "      <td>9872</td>\n",
       "      <td>False</td>\n",
       "      <td>None</td>\n",
       "      <td>NaN</td>\n",
       "      <td>0.0</td>\n",
       "      <td>29997.000000</td>\n",
       "      <td>phenotypes</td>\n",
       "    </tr>\n",
       "    <tr>\n",
       "      <th>total supplement count</th>\n",
       "      <th>NaN</th>\n",
       "      <td>total supplement count</td>\n",
       "      <td>\\questionnaire\\supplement use\\total supplement...</td>\n",
       "      <td>9982</td>\n",
       "      <td>False</td>\n",
       "      <td>None</td>\n",
       "      <td>NaN</td>\n",
       "      <td>0.0</td>\n",
       "      <td>19.000000</td>\n",
       "      <td>phenotypes</td>\n",
       "    </tr>\n",
       "    <tr>\n",
       "      <th rowspan=\"2\" valign=\"top\">viral infection</th>\n",
       "      <th>Doctor ever told you had genital herpes</th>\n",
       "      <th>NaN</th>\n",
       "      <td>Doctor ever told you had genital herpes</td>\n",
       "      <td>\\questionnaire\\viral infection\\Doctor ever tol...</td>\n",
       "      <td>2516</td>\n",
       "      <td>True</td>\n",
       "      <td>[No, Yes]</td>\n",
       "      <td>2.0</td>\n",
       "      <td>NaN</td>\n",
       "      <td>NaN</td>\n",
       "      <td>phenotypes</td>\n",
       "    </tr>\n",
       "    <tr>\n",
       "      <th>Doctor ever told you had genital warts</th>\n",
       "      <th>NaN</th>\n",
       "      <td>Doctor ever told you had genital warts</td>\n",
       "      <td>\\questionnaire\\viral infection\\Doctor ever tol...</td>\n",
       "      <td>2515</td>\n",
       "      <td>True</td>\n",
       "      <td>[No, Yes]</td>\n",
       "      <td>2.0</td>\n",
       "      <td>NaN</td>\n",
       "      <td>NaN</td>\n",
       "      <td>phenotypes</td>\n",
       "    </tr>\n",
       "  </tbody>\n",
       "</table>\n",
       "<p>1159 rows × 9 columns</p>\n",
       "</div>"
      ],
      "text/plain": [
       "                                                                                                       simplified_name  \\\n",
       "level_0       level_1         level_2                                 level_3                                            \n",
       "SUBJECT_ID    NaN             NaN                                     NaN                                   SUBJECT_ID   \n",
       "demographics  AGE             NaN                                     NaN                                          AGE   \n",
       "              DMDBORN         NaN                                     NaN                                      DMDBORN   \n",
       "              DMDMARTL        NaN                                     NaN                                     DMDMARTL   \n",
       "              INDFMPIR        NaN                                     NaN                                     INDFMPIR   \n",
       "...                                                                                                                ...   \n",
       "questionnaire supplement use  VITAMIN_C_Unknown                       NaN                            VITAMIN_C_Unknown   \n",
       "                              VITAMIN_C_mg                            NaN                                 VITAMIN_C_mg   \n",
       "                              total supplement count                  NaN                       total supplement count   \n",
       "              viral infection Doctor ever told you had genital herpes NaN      Doctor ever told you had genital herpes   \n",
       "                              Doctor ever told you had genital warts  NaN       Doctor ever told you had genital warts   \n",
       "\n",
       "                                                                                                                            name  \\\n",
       "level_0       level_1         level_2                                 level_3                                                      \n",
       "SUBJECT_ID    NaN             NaN                                     NaN                                            SUBJECT_ID\\   \n",
       "demographics  AGE             NaN                                     NaN                                     \\demographics\\AGE\\   \n",
       "              DMDBORN         NaN                                     NaN                                 \\demographics\\DMDBORN\\   \n",
       "              DMDMARTL        NaN                                     NaN                                \\demographics\\DMDMARTL\\   \n",
       "              INDFMPIR        NaN                                     NaN                                \\demographics\\INDFMPIR\\   \n",
       "...                                                                                                                          ...   \n",
       "questionnaire supplement use  VITAMIN_C_Unknown                       NaN       \\questionnaire\\supplement use\\VITAMIN_C_Unknown\\   \n",
       "                              VITAMIN_C_mg                            NaN            \\questionnaire\\supplement use\\VITAMIN_C_mg\\   \n",
       "                              total supplement count                  NaN      \\questionnaire\\supplement use\\total supplement...   \n",
       "              viral infection Doctor ever told you had genital herpes NaN      \\questionnaire\\viral infection\\Doctor ever tol...   \n",
       "                              Doctor ever told you had genital warts  NaN      \\questionnaire\\viral infection\\Doctor ever tol...   \n",
       "\n",
       "                                                                               observationCount  \\\n",
       "level_0       level_1         level_2                                 level_3                     \n",
       "SUBJECT_ID    NaN             NaN                                     NaN                  9999   \n",
       "demographics  AGE             NaN                                     NaN                  9999   \n",
       "              DMDBORN         NaN                                     NaN                  9992   \n",
       "              DMDMARTL        NaN                                     NaN                  6458   \n",
       "              INDFMPIR        NaN                                     NaN                  9199   \n",
       "...                                                                                         ...   \n",
       "questionnaire supplement use  VITAMIN_C_Unknown                       NaN                  5059   \n",
       "                              VITAMIN_C_mg                            NaN                  9872   \n",
       "                              total supplement count                  NaN                  9982   \n",
       "              viral infection Doctor ever told you had genital herpes NaN                  2516   \n",
       "                              Doctor ever told you had genital warts  NaN                  2515   \n",
       "\n",
       "                                                                               categorical  \\\n",
       "level_0       level_1         level_2                                 level_3                \n",
       "SUBJECT_ID    NaN             NaN                                     NaN            False   \n",
       "demographics  AGE             NaN                                     NaN            False   \n",
       "              DMDBORN         NaN                                     NaN            False   \n",
       "              DMDMARTL        NaN                                     NaN            False   \n",
       "              INDFMPIR        NaN                                     NaN            False   \n",
       "...                                                                                    ...   \n",
       "questionnaire supplement use  VITAMIN_C_Unknown                       NaN            False   \n",
       "                              VITAMIN_C_mg                            NaN            False   \n",
       "                              total supplement count                  NaN            False   \n",
       "              viral infection Doctor ever told you had genital herpes NaN             True   \n",
       "                              Doctor ever told you had genital warts  NaN             True   \n",
       "\n",
       "                                                                              categoryValues  \\\n",
       "level_0       level_1         level_2                                 level_3                  \n",
       "SUBJECT_ID    NaN             NaN                                     NaN               None   \n",
       "demographics  AGE             NaN                                     NaN               None   \n",
       "              DMDBORN         NaN                                     NaN               None   \n",
       "              DMDMARTL        NaN                                     NaN               None   \n",
       "              INDFMPIR        NaN                                     NaN               None   \n",
       "...                                                                                      ...   \n",
       "questionnaire supplement use  VITAMIN_C_Unknown                       NaN               None   \n",
       "                              VITAMIN_C_mg                            NaN               None   \n",
       "                              total supplement count                  NaN               None   \n",
       "              viral infection Doctor ever told you had genital herpes NaN          [No, Yes]   \n",
       "                              Doctor ever told you had genital warts  NaN          [No, Yes]   \n",
       "\n",
       "                                                                               nb_modalities  \\\n",
       "level_0       level_1         level_2                                 level_3                  \n",
       "SUBJECT_ID    NaN             NaN                                     NaN                NaN   \n",
       "demographics  AGE             NaN                                     NaN                NaN   \n",
       "              DMDBORN         NaN                                     NaN                NaN   \n",
       "              DMDMARTL        NaN                                     NaN                NaN   \n",
       "              INDFMPIR        NaN                                     NaN                NaN   \n",
       "...                                                                                      ...   \n",
       "questionnaire supplement use  VITAMIN_C_Unknown                       NaN                NaN   \n",
       "                              VITAMIN_C_mg                            NaN                NaN   \n",
       "                              total supplement count                  NaN                NaN   \n",
       "              viral infection Doctor ever told you had genital herpes NaN                2.0   \n",
       "                              Doctor ever told you had genital warts  NaN                2.0   \n",
       "\n",
       "                                                                               min  \\\n",
       "level_0       level_1         level_2                                 level_3        \n",
       "SUBJECT_ID    NaN             NaN                                     NaN      2.0   \n",
       "demographics  AGE             NaN                                     NaN      0.0   \n",
       "              DMDBORN         NaN                                     NaN      1.0   \n",
       "              DMDMARTL        NaN                                     NaN      1.0   \n",
       "              INDFMPIR        NaN                                     NaN      0.0   \n",
       "...                                                                            ...   \n",
       "questionnaire supplement use  VITAMIN_C_Unknown                       NaN      0.0   \n",
       "                              VITAMIN_C_mg                            NaN      0.0   \n",
       "                              total supplement count                  NaN      0.0   \n",
       "              viral infection Doctor ever told you had genital herpes NaN      NaN   \n",
       "                              Doctor ever told you had genital warts  NaN      NaN   \n",
       "\n",
       "                                                                                        max  \\\n",
       "level_0       level_1         level_2                                 level_3                 \n",
       "SUBJECT_ID    NaN             NaN                                     NaN      41472.000000   \n",
       "demographics  AGE             NaN                                     NaN         85.000000   \n",
       "              DMDBORN         NaN                                     NaN          3.000000   \n",
       "              DMDMARTL        NaN                                     NaN         77.000000   \n",
       "              INDFMPIR        NaN                                     NaN          5.000000   \n",
       "...                                                                                     ...   \n",
       "questionnaire supplement use  VITAMIN_C_Unknown                       NaN          0.933333   \n",
       "                              VITAMIN_C_mg                            NaN      29997.000000   \n",
       "                              total supplement count                  NaN         19.000000   \n",
       "              viral infection Doctor ever told you had genital herpes NaN               NaN   \n",
       "                              Doctor ever told you had genital warts  NaN               NaN   \n",
       "\n",
       "                                                                              HpdsDataType  \n",
       "level_0       level_1         level_2                                 level_3               \n",
       "SUBJECT_ID    NaN             NaN                                     NaN       phenotypes  \n",
       "demographics  AGE             NaN                                     NaN       phenotypes  \n",
       "              DMDBORN         NaN                                     NaN       phenotypes  \n",
       "              DMDMARTL        NaN                                     NaN       phenotypes  \n",
       "              INDFMPIR        NaN                                     NaN       phenotypes  \n",
       "...                                                                                    ...  \n",
       "questionnaire supplement use  VITAMIN_C_Unknown                       NaN       phenotypes  \n",
       "                              VITAMIN_C_mg                            NaN       phenotypes  \n",
       "                              total supplement count                  NaN       phenotypes  \n",
       "              viral infection Doctor ever told you had genital herpes NaN       phenotypes  \n",
       "                              Doctor ever told you had genital warts  NaN       phenotypes  \n",
       "\n",
       "[1159 rows x 9 columns]"
      ]
     },
     "execution_count": 57,
     "metadata": {},
     "output_type": "execute_result"
    }
   ],
   "source": [
    "bmidf = resource.dictionary().find(\"BMI\").DataFrame()\n",
    "plain_variablesDict = resource.dictionary().find().DataFrame()\n",
    "variablesDict = get_multiIndex_variablesDict(plain_variablesDict)\n",
    "mask_study = variablesDict.index.get_level_values(2) == \"Body Mass Index\"\n",
    "mask_transplant = variablesDict.index.get_level_values(2) == \"BP\"\n",
    "medication_history_variables = variablesDict.loc[mask_study | mask_transplant,:]\n",
    "medication_history_variables\n",
    "age_disease_variables = variablesDict.loc[~mask_transplant,:]\n",
    "age_disease_variables"
   ]
  },
  {
   "cell_type": "markdown",
   "metadata": {},
   "source": [
    "For instance, this output tells us that this `resource` object has 3 methods, and it gives a quick definition of those methods. "
   ]
  },
  {
   "cell_type": "markdown",
   "metadata": {},
   "source": [
    "## Using the *variables dictionnary*"
   ]
  },
  {
   "cell_type": "markdown",
   "metadata": {},
   "source": [
    "Once a connection to the desired resource has been established, we first need to get a knowledge of which variables are available in the database. To this end, we will use the `dictionary` method of the `resource` object."
   ]
  },
  {
   "cell_type": "markdown",
   "metadata": {},
   "source": [
    "Variables in PIC-SURE are queried using `concept paths`. A concept path is an identifier for a variable. It represents a path in the hierarchy of concepts. Some concept paths are derived from well known ontologies, other just reflect the organization of data within a particular study. Each level of organization in a concept path is marked by a `\\` character. Because this character is commonly used to escape other characters in most programming language including Python and R, any `\\` instances need to be escaped with another `\\` to tell the language interpreter that a literal `\\` was intended.\n",
    "\n",
    "This is a concept path in our dataset: `\\demographics\\AGE\\`\n",
    "\n",
    "If you were to use this concept path in a query you would have to escape the backslashes as dictated by Python and R, as well as most every other programming language.\n",
    "\n",
    "This would be a valid way to reference that concept path in a Python or R string: \"\\\\demographics\\\\AGE\\\\\"\n",
    "\n",
    "To find concept paths in PIC-SURE we use the `dictionary` API object."
   ]
  },
  {
   "cell_type": "markdown",
   "metadata": {},
   "source": [
    "A `dictionary` instance enables to retrieve matching records by searching for a specific term, or to retrieve information about all the available variables, using the `find()` method. For instance, looking for variables containing the term `AGE` in their names is done this way: "
   ]
  },
  {
   "cell_type": "code",
   "execution_count": null,
   "metadata": {},
   "outputs": [],
   "source": [
    "#len(quest_disease_dictionary_search.keys())\n",
    "quest_dis=quest_disease_dictionary_search\n",
    "quest_dis"
   ]
  },
  {
   "cell_type": "markdown",
   "metadata": {},
   "source": [
    "Subsequently, objects created by the `dictionary.find` method expose the search results via 4 different methods: `.count()`, `.keys()`, `.entries()`, and `.DataFrame()`. "
   ]
  },
  {
   "cell_type": "code",
   "execution_count": null,
   "metadata": {},
   "outputs": [],
   "source": [
    "copdgene_dic = resource.dictionary().find(\"disease\").DataFrame()\n",
    "consent_dic = resource.dictionary().find(\"AGE\").DataFrame()\n",
    "\n",
    "plain_variablesDict = resource.dictionary().find(\"Disease\").DataFrame()\n",
    "plain_variablesDict = resource.dictionary().find().DataFrame()\n",
    "variablesDict = get_multiIndex_variablesDict(plain_variablesDict)\n",
    "mask_age = variablesDict.index.get_level_values(1) == \"AGE\"\n",
    "mask_disease = variablesDict.index.get_level_values(1)== \"disease\" \n",
    "mask_quest_disease = variablesDict.index.get_level_values(1)== \"\\\\questionnaire\\\\disease\\\\\"\n",
    "# line needed bc dictionaries doesn't return the same column type for categorical and numerical variables\n",
    "age_disease_variables = variablesDict.loc[mask_disease | mask_quest_disease]\n",
    "age_disease_variables"
   ]
  },
  {
   "cell_type": "markdown",
   "metadata": {},
   "source": [
    "**The `.DataFrame()` method enables to get the result of the dictionary search in a pandas DataFrame format. This way, it allows to:** \n",
    "\n",
    "\n",
    "* Use the various information exposed in the dictionary (patient count, variable type ...) as criteria for variable selection.\n",
    "* Use the row names of the DataFrame to get the actual variables names, to be used in the query, as shown below.\n",
    "\n",
    "Variable names, aren't very pratical to use right away, for two reasons:\n",
    "1. Very long\n",
    "2. Presence of backslashes that prevent from copy-pasting. \n",
    "\n",
    "However, retrieving the dictionary search result in the form of a dataframe can help to deal with this, as below:"
   ]
  },
  {
   "cell_type": "code",
   "execution_count": null,
   "metadata": {},
   "outputs": [],
   "source": [
    "fullVariableDict = resource.dictionary().find().DataFrame()\n",
    "variablesDict = get_multiIndex_variablesDict(fullVariableDict)\n",
    "mask_disease = variablesDict.index.get_level_values(1) == \"disease\"\n",
    "mask_age = variablesDict.index.get_level_values(1) == \"AGE\"\n",
    "mask_current_asthma = variablesDict.index.get_level_values(2) == \"Current asthma?\"\n",
    "mask_ever_asthma = variablesDict.index.get_level_values(2) == \"Ever asthma?\"\n",
    "mask_lung_cancer = variablesDict.index.get_level_values(2) == \"lung_cancer_self_report\"\n",
    "lung_disease_variables = variablesDict.loc[mask_current_asthma | mask_ever_asthma | mask_lung_cancer | mask_age,:]\n",
    "lung_disease_variables\n"
   ]
  },
  {
   "cell_type": "markdown",
   "metadata": {},
   "source": [
    "Indeed, using the `dictionary.find()` function without arguments returns all concepts in the dataset, as shown in the help documentation."
   ]
  },
  {
   "cell_type": "markdown",
   "metadata": {},
   "source": [
    "The dictionary currently returned by the API provides information about the variables, such as:\n",
    "- observationCount: number of entries with non-null value\n",
    "- categorical: type of the variables, True if strings, False if numerical\n",
    "- min/max: only provided for numerical variables\n",
    "- HpdsDataType: 'phenotypes' or 'genotypes'. Currently this environment only has phenotype variables loaded, other environments have genotype data as well."
   ]
  },
  {
   "cell_type": "markdown",
   "metadata": {},
   "source": [
    "#### Variable dictionary + pandas multiIndex"
   ]
  },
  {
   "cell_type": "markdown",
   "metadata": {},
   "source": [
    "We can use a simple user-defined function (`get_multiIndex_variablesDict`) to add a little more information to the variable dictionary and to simplify working with variables names. It takes advantage of pandas MultiIndex functionality [see pandas official documentation on this topic](https://pandas.pydata.org/pandas-docs/stable/user_guide/advanced.html).\n",
    "\n",
    "Although not an official feature of the API, such functionality illustrates how to quickly select groups of related variables.\n",
    "\n",
    "Printing the 'multiIndexed' variable Dictionary allows to quickly see the tree-like organisation of the variable names. Moreover, original and simplified variable names are now stored respectively in the \"varName\" and \"simplified_varName\" columns (simplified variable names is simply the last component of the variable name, that is usually the most informative to know what each variable is about)."
   ]
  },
  {
   "cell_type": "code",
   "execution_count": null,
   "metadata": {},
   "outputs": [],
   "source": []
  },
  {
   "cell_type": "markdown",
   "metadata": {},
   "source": [
    "Below is a simple example to illustrate the simplicity of use a multiIndex dictionary. Let's say we are interested in every variables pertaining to the \"Medical history\" and \"Medication history\" subcategories."
   ]
  },
  {
   "cell_type": "code",
   "execution_count": 59,
   "metadata": {},
   "outputs": [
    {
     "data": {
      "text/html": [
       "<div>\n",
       "<style scoped>\n",
       "    .dataframe tbody tr th:only-of-type {\n",
       "        vertical-align: middle;\n",
       "    }\n",
       "\n",
       "    .dataframe tbody tr th {\n",
       "        vertical-align: top;\n",
       "    }\n",
       "\n",
       "    .dataframe thead th {\n",
       "        text-align: right;\n",
       "    }\n",
       "</style>\n",
       "<table border=\"1\" class=\"dataframe\">\n",
       "  <thead>\n",
       "    <tr style=\"text-align: right;\">\n",
       "      <th></th>\n",
       "      <th></th>\n",
       "      <th></th>\n",
       "      <th></th>\n",
       "      <th>simplified_name</th>\n",
       "      <th>name</th>\n",
       "      <th>observationCount</th>\n",
       "      <th>categorical</th>\n",
       "      <th>categoryValues</th>\n",
       "      <th>nb_modalities</th>\n",
       "      <th>min</th>\n",
       "      <th>max</th>\n",
       "      <th>HpdsDataType</th>\n",
       "    </tr>\n",
       "    <tr>\n",
       "      <th>level_0</th>\n",
       "      <th>level_1</th>\n",
       "      <th>level_2</th>\n",
       "      <th>level_3</th>\n",
       "      <th></th>\n",
       "      <th></th>\n",
       "      <th></th>\n",
       "      <th></th>\n",
       "      <th></th>\n",
       "      <th></th>\n",
       "      <th></th>\n",
       "      <th></th>\n",
       "      <th></th>\n",
       "    </tr>\n",
       "  </thead>\n",
       "  <tbody>\n",
       "  </tbody>\n",
       "</table>\n",
       "</div>"
      ],
      "text/plain": [
       "Empty DataFrame\n",
       "Columns: [simplified_name, name, observationCount, categorical, categoryValues, nb_modalities, min, max, HpdsDataType]\n",
       "Index: []"
      ]
     },
     "execution_count": 59,
     "metadata": {},
     "output_type": "execute_result"
    }
   ],
   "source": [
    "mask_medication = variablesDict.index.get_level_values(2) == \"Medication History\"\n",
    "mask_medical = variablesDict.index.get_level_values(2) == \"Medical History\"\n",
    "medication_history_variables = variablesDict.loc[mask_medical | mask_medication,:]\n",
    "medication_history_variables"
   ]
  },
  {
   "cell_type": "code",
   "execution_count": null,
   "metadata": {},
   "outputs": [],
   "source": [
    "questdisdf = resource.dictionary().find(\"\\\\questionnaire\\\\disease\\\\\").DataFrame()\n",
    "questdisdf\n",
    "\n",
    "diseasedf = resource.dictionary().find(\"Disease\").DataFrame()\n",
    "diseasedf[diseasedf.categorical == True]\n",
    "disease_concept_path = diseasedf.index[0]\n",
    "\n",
    "bmidf = resource.dictionary().find(\"BMI\")\n",
    "bmidf.DataFrame()\n",
    "\n",
    "\n",
    "diseasedf = resource.dictionary().find(\"Disease\").DataFrame()\n",
    "diseasedf[diseasedf.categorical == True]\n",
    "disease_concept_path = diseasedf.index[0]\n",
    "disease_concept_path\n",
    "\"\"\n",
    "agedf = resource.dictionary().find(\"Age\").DataFrame()\n",
    "agedf[agedf.categorical == True]\n",
    "age_concept_path = agedf.index[0]\n",
    "age_concept_path\n",
    "\n",
    "\n",
    "fullVariableDict = resource.dictionary().find().DataFrame()\n",
    "variablesDict = get_multiIndex_variablesDict(fullVariableDict)\n",
    "mask_disease = variablesDict.index.get_level_values(1) == \"disease\"\n",
    "mask_age = variablesDict.index.get_level_values(1) == \"AGE\"\n",
    "mask_current_asthma = variablesDict.index.get_level_values(2) == \"Current asthma?\"\n",
    "mask_ever_asthma = variablesDict.index.get_level_values(2) == \"Ever asthma?\"\n",
    "mask_lung_cancer = variablesDict.index.get_level_values(2) == \"lung_cancer_self_report\"\n",
    "lung_disease_variables = variablesDict.loc[mask_current_asthma | mask_ever_asthma | mask_lung_cancer | ~mask_age,:]\n",
    "lung_disease_variables\n"
   ]
  },
  {
   "cell_type": "markdown",
   "metadata": {},
   "source": [
    "Although pretty simple, it can be easily combined with other filters to quickly select desired group of variables."
   ]
  },
  {
   "cell_type": "markdown",
   "metadata": {},
   "source": [
    "## Querying for participant counts and retrieving data"
   ]
  },
  {
   "cell_type": "markdown",
   "metadata": {},
   "source": [
    "Beside from the dictionary, the second cornerstone of the API is the `query` object. It is the entering point to perform counts of participants meeting certain filters and extract data from the resource."
   ]
  },
  {
   "cell_type": "markdown",
   "metadata": {},
   "source": [
    "First, we need to create a query object."
   ]
  },
  {
   "cell_type": "code",
   "execution_count": null,
   "metadata": {},
   "outputs": [],
   "source": [
    "my_query = resource.query()\n",
    "my_query"
   ]
  },
  {
   "cell_type": "markdown",
   "metadata": {},
   "source": [
    "The query object has several methods that enable to build a query."
   ]
  },
  {
   "cell_type": "markdown",
   "metadata": {},
   "source": [
    "- The `query.select.add()` method accepts variable names as string or list of strings as argument, and will allow the query to return all variables included in the list, without any record (ie subjects/rows) subsetting."
   ]
  },
  {
   "cell_type": "markdown",
   "metadata": {},
   "source": [
    "- The `query.require.add()` method accepts variable names as string or list of strings as argument, and will allow the query to return all the variables passed, and only records that do not contain any null values for those variables."
   ]
  },
  {
   "cell_type": "markdown",
   "metadata": {},
   "source": [
    "- The `query.anyof.add()` method accepts variable names as string or list of strings as argument, and will allow the query to return all variables included in the list, and only records that do contain at least one non-null value for those variables."
   ]
  },
  {
   "cell_type": "markdown",
   "metadata": {},
   "source": [
    "- The `query.filter.add()` method accepts a variable name as argument, plus additional values to filter on that given variable. The query will return this variable and only the records that do match this filter criteria."
   ]
  },
  {
   "cell_type": "markdown",
   "metadata": {},
   "source": [
    "All those 4 methods can be combined when building a query. The record eventually returned by the query have to meet all the different specified filters."
   ]
  },
  {
   "cell_type": "markdown",
   "metadata": {},
   "source": [
    "#### Building the query"
   ]
  },
  {
   "cell_type": "markdown",
   "metadata": {},
   "source": [
    "Let's say we want to see how many participants in the dataset are males between the age of 35 and 50 and who quit smoking before age 30.\n",
    "\n",
    "First we will need to find the variables related to our problem. So we will search for a categorical variable that represents gender, a continuous variable representing the current age, and a variable that represents when the participant quit smoking.\n",
    "\n",
    "Because gender can be labeled differently in different studies (sex,gender), it is usually more productive to search for the more consistently present value \"male\". We also know we want a categorical concept so we can filter the results that way.\n"
   ]
  },
  {
   "cell_type": "code",
   "execution_count": null,
   "metadata": {},
   "outputs": [],
   "source": []
  },
  {
   "cell_type": "code",
   "execution_count": 60,
   "metadata": {},
   "outputs": [
    {
     "ename": "SyntaxError",
     "evalue": "invalid syntax (<ipython-input-60-81c8145525d7>, line 15)",
     "output_type": "error",
     "traceback": [
      "\u001b[0;36m  File \u001b[0;32m\"<ipython-input-60-81c8145525d7>\"\u001b[0;36m, line \u001b[0;32m15\u001b[0m\n\u001b[0;31m    Retrieving the data:\u001b[0m\n\u001b[0m               ^\u001b[0m\n\u001b[0;31mSyntaxError\u001b[0m\u001b[0;31m:\u001b[0m invalid syntax\n"
     ]
    }
   ],
   "source": [
    "q2criteria.extend(d.find(\"BP\").keys())\n",
    "q2criteria.extend(d.find(\"\\\\Body Mass Index\").keys())\n",
    "\n",
    "multiIndexdic = get_multiIndex_variablesDict(harmonized_dic)\n",
    "multiIndexdic_sub = multiIndexdic.loc[~ multiIndexdic[\"simplified_name\"].str.contains(\"(^[Aa]ge)|(SUBJECT_ID)\", regex=True),:]\n",
    "\n",
    "mask_demo = multiIndexdic_sub.index.get_level_values(1) == '01 - Demographics'\n",
    "variablesDict = multiIndexdic_sub.loc[mask_demo,:]\n",
    "\n",
    "selected_vars = variablesDict.loc[:, \"name\"].tolist()\n",
    "#selected_vars.append(\"\\\\_Consents\\\\Short Study Accession with Consent Code\\\\\")\n",
    "\n",
    "pprint(selected_vars[:5])\n",
    "\n",
    "Retrieving the data:\n",
    "\n",
    "query = resource.query()\n",
    "query.select().add(selected_vars)\n",
    "facts = query.getResultsDataFrame(low_memory=False)\n",
    "\n",
    "facts = facts.set_index(\"Patient ID\")\\\n",
    "    .dropna(axis=0, how=\"all\")\\\n",
    "    .drop([\"\\\\_Consents\\\\Short Study Accession with Consent Code\\\\\"], axis=1)\n",
    "#facts.columns = variablesDict.set_index(\"name\").loc[selected_vars, \"simplified_name\"]"
   ]
  },
  {
   "cell_type": "code",
   "execution_count": null,
   "metadata": {},
   "outputs": [],
   "source": [
    "disease_concept_path = diseasedf.index[0]\n",
    "disease_concept_path\n",
    "age_concept_path.count()\n",
    "\n",
    "# map a color field for the plot to use\n",
    "#sex_colors = {'male':'#5a7dd040', 'female':'#ffbabb40'}\n",
    "#df_mf['\\\\sex_color\\\\'] = df_mf['\\\\demographics\\\\SEX\\\\'].map(sex_colors)\n",
    "\n",
    "\n",
    "mask = variablesDict[\"simplified_name\"] == \"How old were you when you completely stopped smoking? [Years old]\"\n",
    "yo_stop_smoking_varname = variablesDict.loc[mask, \"name\"] \n",
    "\n",
    "mask_cat = variablesDict[\"categorical\"] == True\n",
    "mask_count = variablesDict[\"observationCount\"].between(100,2000)\n",
    "varnames = variablesDict.loc[mask_cat & mask_count, \"name\"]\n",
    "\n",
    "my_query.filter().add(yo_stop_smoking_varname, min=20, max=70)\n",
    "my_query.select().add(varnames[:50])"
   ]
  },
  {
   "cell_type": "markdown",
   "metadata": {},
   "source": [
    "OK, pretty obvious we want \\demographics\\sex\\ as our gender concept path.\n",
    "\n",
    "Moving on to the age concept paths, this can be more complicated as the term \"age\" shows up in lots of concepts, it is a very common string of 3 characters."
   ]
  },
  {
   "cell_type": "code",
   "execution_count": null,
   "metadata": {},
   "outputs": [],
   "source": [
    "multiIndexdic = get_multiIndex_variablesDict(harmonized_dic)\n",
    "multiIndexdic_sub = multiIndexdic.loc[~ multiIndexdic[\"simplified_name\"].str.contains(\"(^[Aa]ge)|(SUBJECT_ID)\", regex=True),:]\n",
    "\n",
    "mask_demo = multiIndexdic_sub.index.get_level_values(1) == '01 - Demographics'\n",
    "variablesDict = multiIndexdic_sub.loc[mask_demo,:]\n",
    "\n",
    "selected_vars = variablesDict.loc[:, \"name\"].tolist()\n",
    "#selected_vars.append(\"\\\\_Consents\\\\Short Study Accession with Consent Code\\\\\")\n",
    "\n",
    "pprint(selected_vars[:5])\n",
    "\n",
    "Retrieving the data:\n",
    "\n",
    "query = resource.query()\n",
    "query.select().add(selected_vars)\n",
    "facts = query.getResultsDataFrame(low_memory=False)\n",
    "\n",
    "facts = facts.set_index(\"Patient ID\")\\\n",
    "    .dropna(axis=0, how=\"all\")\\\n",
    "    .drop([\"\\\\_Consents\\\\Short Study Accession with Consent Code\\\\\"], axis=1)\n",
    "#facts.columns = variablesDict.set_index(\"name\").loc[selected_vars, \"simplified_name\"]"
   ]
  },
  {
   "cell_type": "code",
   "execution_count": 63,
   "metadata": {},
   "outputs": [
    {
     "data": {
      "text/plain": [
       "(1159, 9)"
      ]
     },
     "execution_count": 63,
     "metadata": {},
     "output_type": "execute_result"
    }
   ],
   "source": [
    "plain_variablesDict = resource.dictionary().find().DataFrame()\n",
    "variablesDict = get_multiIndex_variablesDict(plain_variablesDict)\n",
    "mask_BP = variablesDict.index.get_level_values(2) == \"BP\"\n",
    "mask_BMI = variablesDict.index.get_level_values(2) == \"BMI\"\n",
    "BP_BMI_variables = variablesDict.loc[mask_BMI | mask_BP,:]\n",
    "BP_BMI_variables.shape"
   ]
  },
  {
   "cell_type": "code",
   "execution_count": null,
   "metadata": {},
   "outputs": [],
   "source": [
    "df = dictionary.find(\"breathing\").DataFrame()\n",
    "df"
   ]
  },
  {
   "cell_type": "markdown",
   "metadata": {},
   "source": [
    "We know the age concept we want for the current age is \\demographics\\AGE\\ , that one is obvious. We can figure out when people quit smoking cigarettes using the \\questionnaire\\smoking behavior\\Age last smoked cigarettes regularly\\ concept.\n",
    "\n",
    "We've assigned these concept paths to variables so we can use them in our query.\n",
    "\n",
    "gender_concept_path\n",
    "\n",
    "age_concept_path\n",
    "\n",
    "quit_smoking_concept_path\n",
    "\n",
    "Great! Now we have all of the concept paths for our query. Let's add filters to our query to meet the original problem statement.\n",
    "\n",
    "We want to see how many participants in the dataset are males between the age of 35 and 50 and who quit smoking before age 30."
   ]
  },
  {
   "cell_type": "code",
   "execution_count": null,
   "metadata": {},
   "outputs": [],
   "source": [
    "my_query = resource.query()\n",
    "my_query.filter().add(gender_concept_path, \"male\")\n",
    "my_query.filter().add(age_concept_path, min=35, max=50)\n",
    "my_query.filter().add(quit_smoking_concept_path, min=1, max=30)"
   ]
  },
  {
   "cell_type": "code",
   "execution_count": null,
   "metadata": {},
   "outputs": [],
   "source": [
    "0-2 years\n",
    "3-7 years\n",
    "8-10 years\n",
    "11-20 years\n",
    "21-44 years"
   ]
  },
  {
   "cell_type": "code",
   "execution_count": 66,
   "metadata": {},
   "outputs": [
    {
     "ename": "NameError",
     "evalue": "name 'dictionary' is not defined",
     "output_type": "error",
     "traceback": [
      "\u001b[0;31m---------------------------------------------------------------------------\u001b[0m",
      "\u001b[0;31mNameError\u001b[0m                                 Traceback (most recent call last)",
      "\u001b[0;32m<ipython-input-66-80f8e577d1ae>\u001b[0m in \u001b[0;36m<module>\u001b[0;34m\u001b[0m\n\u001b[0;32m----> 1\u001b[0;31m \u001b[0mdisdf\u001b[0m \u001b[0;34m=\u001b[0m \u001b[0mdictionary\u001b[0m\u001b[0;34m.\u001b[0m\u001b[0mfind\u001b[0m\u001b[0;34m(\u001b[0m\u001b[0;34m\"disease\"\u001b[0m\u001b[0;34m)\u001b[0m\u001b[0;34m.\u001b[0m\u001b[0mDataFrame\u001b[0m\u001b[0;34m(\u001b[0m\u001b[0;34m)\u001b[0m\u001b[0;34m\u001b[0m\u001b[0;34m\u001b[0m\u001b[0m\n\u001b[0m\u001b[1;32m      2\u001b[0m \u001b[0;31m#disdf[disdf.categorical == True]\u001b[0m\u001b[0;34m\u001b[0m\u001b[0;34m\u001b[0m\u001b[0;34m\u001b[0m\u001b[0m\n\u001b[1;32m      3\u001b[0m \u001b[0mdisdf\u001b[0m\u001b[0;34m.\u001b[0m\u001b[0mshape\u001b[0m\u001b[0;34m\u001b[0m\u001b[0;34m\u001b[0m\u001b[0m\n",
      "\u001b[0;31mNameError\u001b[0m: name 'dictionary' is not defined"
     ]
    }
   ],
   "source": [
    "disdf = dictionary.find(\"disease\").DataFrame()\n",
    "#disdf[disdf.categorical == True]\n",
    "disdf.shape"
   ]
  },
  {
   "cell_type": "code",
   "execution_count": 65,
   "metadata": {},
   "outputs": [
    {
     "ename": "NameError",
     "evalue": "name 'dictionary' is not defined",
     "output_type": "error",
     "traceback": [
      "\u001b[0;31m---------------------------------------------------------------------------\u001b[0m",
      "\u001b[0;31mNameError\u001b[0m                                 Traceback (most recent call last)",
      "\u001b[0;32m<ipython-input-65-c69eaf6af981>\u001b[0m in \u001b[0;36m<module>\u001b[0;34m\u001b[0m\n\u001b[0;32m----> 1\u001b[0;31m \u001b[0mqdisdf\u001b[0m \u001b[0;34m=\u001b[0m \u001b[0mdictionary\u001b[0m\u001b[0;34m.\u001b[0m\u001b[0mfind\u001b[0m\u001b[0;34m(\u001b[0m\u001b[0;34m\"\\\\questionnaire\\\\disease\"\u001b[0m\u001b[0;34m)\u001b[0m\u001b[0;34m.\u001b[0m\u001b[0mDataFrame\u001b[0m\u001b[0;34m(\u001b[0m\u001b[0;34m)\u001b[0m\u001b[0;34m\u001b[0m\u001b[0;34m\u001b[0m\u001b[0m\n\u001b[0m\u001b[1;32m      2\u001b[0m \u001b[0;31m#qdisdf[qdisdf.categorical == True]\u001b[0m\u001b[0;34m\u001b[0m\u001b[0;34m\u001b[0m\u001b[0;34m\u001b[0m\u001b[0m\n\u001b[1;32m      3\u001b[0m \u001b[0mqdisdf\u001b[0m\u001b[0;34m.\u001b[0m\u001b[0mshape\u001b[0m\u001b[0;34m\u001b[0m\u001b[0;34m\u001b[0m\u001b[0m\n",
      "\u001b[0;31mNameError\u001b[0m: name 'dictionary' is not defined"
     ]
    }
   ],
   "source": [
    "qdisdf = dictionary.find(\"\\\\questionnaire\\\\disease\").DataFrame()\n",
    "#qdisdf[qdisdf.categorical == True]\n",
    "qdisdf.shape"
   ]
  },
  {
   "cell_type": "code",
   "execution_count": 64,
   "metadata": {},
   "outputs": [
    {
     "ename": "NameError",
     "evalue": "name 'df' is not defined",
     "output_type": "error",
     "traceback": [
      "\u001b[0;31m---------------------------------------------------------------------------\u001b[0m",
      "\u001b[0;31mNameError\u001b[0m                                 Traceback (most recent call last)",
      "\u001b[0;32m<ipython-input-64-00d0be0df513>\u001b[0m in \u001b[0;36m<module>\u001b[0;34m\u001b[0m\n\u001b[0;32m----> 1\u001b[0;31m \u001b[0mdisease_concept_path\u001b[0m \u001b[0;34m=\u001b[0m \u001b[0mdf\u001b[0m\u001b[0;34m.\u001b[0m\u001b[0mindex\u001b[0m\u001b[0;34m[\u001b[0m\u001b[0;34m\"lung_cancer\"\u001b[0m\u001b[0;34m]\u001b[0m\u001b[0;34m\u001b[0m\u001b[0;34m\u001b[0m\u001b[0m\n\u001b[0m\u001b[1;32m      2\u001b[0m \u001b[0mmy_query\u001b[0m\u001b[0;34m.\u001b[0m\u001b[0mfilter\u001b[0m\u001b[0;34m(\u001b[0m\u001b[0;34m)\u001b[0m\u001b[0;34m.\u001b[0m\u001b[0madd\u001b[0m\u001b[0;34m(\u001b[0m\u001b[0mgender_concept_path\u001b[0m\u001b[0;34m,\u001b[0m \u001b[0;34m\"male\"\u001b[0m\u001b[0;34m)\u001b[0m\u001b[0;34m\u001b[0m\u001b[0;34m\u001b[0m\u001b[0m\n\u001b[1;32m      3\u001b[0m \u001b[0mmy_query\u001b[0m\u001b[0;34m.\u001b[0m\u001b[0mfilter\u001b[0m\u001b[0;34m(\u001b[0m\u001b[0;34m)\u001b[0m\u001b[0;34m.\u001b[0m\u001b[0madd\u001b[0m\u001b[0;34m(\u001b[0m\u001b[0mage_concept_path\u001b[0m\u001b[0;34m,\u001b[0m \u001b[0mmin\u001b[0m\u001b[0;34m=\u001b[0m\u001b[0;36m35\u001b[0m\u001b[0;34m,\u001b[0m \u001b[0mmax\u001b[0m\u001b[0;34m=\u001b[0m\u001b[0;36m50\u001b[0m\u001b[0;34m)\u001b[0m\u001b[0;34m\u001b[0m\u001b[0;34m\u001b[0m\u001b[0m\n\u001b[1;32m      4\u001b[0m \u001b[0mmy_query\u001b[0m\u001b[0;34m.\u001b[0m\u001b[0mfilter\u001b[0m\u001b[0;34m(\u001b[0m\u001b[0;34m)\u001b[0m\u001b[0;34m.\u001b[0m\u001b[0madd\u001b[0m\u001b[0;34m(\u001b[0m\u001b[0mquit_smoking_concept_path\u001b[0m\u001b[0;34m,\u001b[0m \u001b[0mmin\u001b[0m\u001b[0;34m=\u001b[0m\u001b[0;36m1\u001b[0m\u001b[0;34m,\u001b[0m \u001b[0mmax\u001b[0m\u001b[0;34m=\u001b[0m\u001b[0;36m30\u001b[0m\u001b[0;34m)\u001b[0m\u001b[0;34m\u001b[0m\u001b[0;34m\u001b[0m\u001b[0m\n",
      "\u001b[0;31mNameError\u001b[0m: name 'df' is not defined"
     ]
    }
   ],
   "source": [
    "disease_concept_path = df.index[\"lung_cancer\"]\n",
    "my_query.filter().add(gender_concept_path, \"male\")\n",
    "my_query.filter().add(age_concept_path, min=35, max=50)\n",
    "my_query.filter().add(quit_smoking_concept_path, min=1, max=30)"
   ]
  },
  {
   "cell_type": "code",
   "execution_count": null,
   "metadata": {},
   "outputs": [],
   "source": [
    "age_concept_path = df.index[1]"
   ]
  },
  {
   "cell_type": "code",
   "execution_count": null,
   "metadata": {},
   "outputs": [],
   "source": [
    "my_query = resource.query()\n",
    "my_query.filter().add(disease_concept_path, \"lung\", \"asthma\")\n",
    "my_query.filter().add(age_concept_path, min=0, max=2)\n",
    "my_query.filter().add(age_concept_path, min=3, max=7)\n",
    "my_query.filter().add(age_concept_path, min=8, max=10)\n",
    "my_query.filter().add(age_concept_path, min=11, max=20)\n",
    "my_query.filter().add(age_concept_path, min=21, max=44)"
   ]
  },
  {
   "cell_type": "markdown",
   "metadata": {},
   "source": [
    "## Retrieving participant counts for your query\n"
   ]
  },
  {
   "cell_type": "markdown",
   "metadata": {},
   "source": [
    "The basis of many statistical operations is a count of things as they fit into different categories and mathematical operations on those counts. PIC-SURE is optimized to perform these counts for you. Using this ability to retrieve counts instead of raw data that needs to be counted has many benefits. \n",
    "\n",
    "From a sustainability perspective it is much cheaper to return a count than the raw data. For small datasets this benefit doesn't matter much, but as datasets have grown this became a significant concern. It costs $90 per terrabyte to retrieve data from the cloud on AWS. While 1TB sounds like a lot, it really isn't when you consider many users accessing the data all at once. \n",
    "\n",
    "From a usability perspective it is much faster to retrieve a count than to retrieve a CSV and process counts yourself. There is a researcher mindset of mistrust of things that are new, and this is justified, but our job is to gain that trust in PIC-SURE's ability to accurately count based on the filters applied. \n",
    "\n",
    "From a reproducibility perspective, a PIC-SURE Query expresses fully the filters and aggregate operations performed. The current aggregate operations are counts, but we do plan to extend that as things progress. This results in everything being captured fully. There is no opportunity for missed steps or unrecorded massaging of the data. It is always 100% reproducible.\n",
    "\n",
    "To retrieve a participant count for any query, just run the getCount function.\n"
   ]
  },
  {
   "cell_type": "code",
   "execution_count": null,
   "metadata": {},
   "outputs": [],
   "source": [
    "my_query.getCount()"
   ]
  },
  {
   "cell_type": "markdown",
   "metadata": {},
   "source": [
    "So we now know how many participants are in this age range and who smoked at some point and quit by age 30. By combining ranges we could build a histogram or other visualization of this data just from the counts, but how do we know we can trust the counts?"
   ]
  },
  {
   "cell_type": "markdown",
   "metadata": {},
   "source": [
    "## Retrieving the raw data"
   ]
  },
  {
   "cell_type": "markdown",
   "metadata": {},
   "source": [
    "To get the raw data this count came from, you can run the getResultsDataFrame function. This enables a researcher to have greater confidence in the count or to identify abhorations in the data leading to an invalid count. Additional filters can then be added to the query to remove the abhorant data."
   ]
  },
  {
   "cell_type": "code",
   "execution_count": null,
   "metadata": {},
   "outputs": [],
   "source": [
    "query_result = my_query.getResultsDataFrame(low_memory=False)"
   ]
  },
  {
   "cell_type": "code",
   "execution_count": null,
   "metadata": {},
   "outputs": [],
   "source": [
    "query_result.shape"
   ]
  },
  {
   "cell_type": "markdown",
   "metadata": {},
   "source": [
    "## PIC-SURE UI\n",
    "\n",
    "In addition to the API, the PIC-SURE UI can help to explore the data and figure out how many participants meet certain filter criteria. Explore PIC-SURE UI here https://3.236.133.248 to get a sense for what data is available."
   ]
  },
  {
   "cell_type": "markdown",
   "metadata": {},
   "source": [
    "## Code Test Challenges\n",
    "\n",
    "Now that you have a basic understanding of how the API works, we can move on to the code test problems. Please provide solutions to the following problems using the API. You may export raw data to confirm your answers, but your solution cannot be derived directly from a dump of the raw data. The solution must come from COUNT queries. Feel free to validate your solution by exporting the data and comparing the results of the COUNT based solution to the results using any other method. Show all work in new cells added after each Problem.\n"
   ]
  },
  {
   "cell_type": "markdown",
   "metadata": {},
   "source": [
    "# Problem 1"
   ]
  },
  {
   "cell_type": "raw",
   "metadata": {},
   "source": [
    "Use count queries to get the number of participants in the dataset in the following age groups have reported a disease related to breathing? BONUS : Display a graph that illustrates the breakdown of participants by these brackets --> 0-2 years; 3-7 years; 8-10 years; 11-20 years;21-44 years\n",
    "\n",
    "copdgene_dic = resource.dictionary().find(\"blood pressure\").DataFrame()\n",
    "consent_dic = resource.dictionary().find(\"physical fitness\").DataFrame()\n",
    "bodymeasuredf"
   ]
  },
  {
   "cell_type": "code",
   "execution_count": null,
   "metadata": {},
   "outputs": [],
   "source": [
    "pmeasuredf = resource.dictionary().find(\"physical fitness\")\n",
    "pmeasuredf.DataFrame()"
   ]
  },
  {
   "cell_type": "code",
   "execution_count": null,
   "metadata": {},
   "outputs": [],
   "source": [
    "pmeasuredf = resource.dictionary().find(\"Body Mass Index\")\n",
    "pmeasuredf.DataFrame()"
   ]
  },
  {
   "cell_type": "code",
   "execution_count": null,
   "metadata": {},
   "outputs": [],
   "source": [
    "age_groups={'group_names':[\"infrant\", \"toddler\",\"tyke\",\"teen\",\"adult\",\"senior\"],\n",
    "           'min_age':[0,3,8,11,21,45],'max_age':[2,7,10,20,44,150]}\n",
    "\n",
    "mask_pf= variablesDict.index.get_level_values(1) == \"\\\\examination\\\\body measures\\\\physical fitness\"\n",
    "mask_bp = variablesDict.index.get_level_values(1) == \"\\\\examination\\\\physical fitness\\\\blood pressure\"\n",
    "copdgene_dic = resource.dictionary().find(\"Body Mass Index\").DataFrame()\n",
    "consent_dic = resource.dictionary().find(\"physical fitness\").DataFrame()\n",
    "plain_variablesDict = resource.dictionary().find().DataFrame()\n",
    "variablesDict = get_multiIndex_variablesDict(plain_variablesDict)\n",
    "d = resource.dictionary()\n",
    "q1criteria = []\n",
    "q1query_unified = list()\n",
    "\n",
    "my_query = resource.query()\n",
    "#my_query.filter().add(gender_concept_path, \"male\")\n",
    "my_query.filter().add(diseasedf,age_groups)\n",
    "my_query.filter().add(agedf, age_groups)\n",
    "q1criteria.extend(d.find(\"disease\").keys())\n",
    "q1criteria.extend(d.find(\"\\\\disease\\\\lung_cancer_self_report\").keys())\n",
    "q1criteria.extend(d.find(\"\\\\disease\\\\Current asthma?\").keys())\n",
    "q1criteria.extend(d.find(\"\\\\disease\\\\Ever asthma?\").keys())\n",
    "q1criteria.extend(d.find(\"AGE\").keys())\n",
    "my_query.require().add(q1criteria)\n",
    "df_mf = query_unified.getResultsDataFrame()\n",
    "df_mf\n",
    "\n",
    "measuredf = resource.dictionary().find(\"body measures\").DataFrame()\n",
    "measuredf[measuredf.categorical == False]\n",
    "body_measure_concept_path = measuredf.index[0]\n",
    "body_measure_concept_path\n",
    "\n",
    "fullVariableDict = resource.dictionary().find(\"body measures\")\n",
    "body_measure_df=fullVariableDict.DataFrame()\n",
    "variablesDict = get_multiIndex_variablesDict(body_measure_df)\n",
    "mask_measure = variablesDict.index.get_level_values(1) == \"body measures\"\n",
    "mask_bmi = variablesDict.index.get_level_values(1) == \"Body Mass Index\"\n",
    "mask_pf= variablesDict.index.get_level_values(1) == \"\\\\examination\\\\body measures\\\\physical fitness\"\n",
    "mask_bp = variablesDict.index.get_level_values(1) == \"\\\\examination\\\\physical fitness\\\\blood pressure\"\n",
    "heart_disease_variables = variablesDict.loc[mask_bmi | ~mask_bp ,:]\n",
    "heart_disease_variables"
   ]
  },
  {
   "cell_type": "markdown",
   "metadata": {},
   "source": [
    "# Problem 2\n"
   ]
  },
  {
   "cell_type": "markdown",
   "metadata": {},
   "source": [
    "Use count queries to confirm the well known relationship between BMI and blood pressure."
   ]
  },
  {
   "cell_type": "code",
   "execution_count": null,
   "metadata": {},
   "outputs": [],
   "source": [
    "age_groups={'group_names':[\"infrant\", \"toddler\",\"tyke\",\"teen\",\"adult\",\"senior\"],\n",
    "           'min_age':[0,3,8,11,21,45],'max_age':[2,7,10,20,44,150]}\n",
    "q2criteria.extend(d.find(\"BP\").keys())\n",
    "q2criteria.extend(d.find(\"\\\\Body Mass Index\").keys())\n",
    "\n",
    "copdgene_dic = resource.dictionary().find(\"disease\").DataFrame()\n",
    "consent_dic = resource.dictionary().find(\"AGE\").DataFrame()\n",
    "plain_variablesDict = resource.dictionary().find(\"Disease\").DataFrame()\n",
    "plain_variablesDict = resource.dictionary().find().DataFrame()\n",
    "variablesDict = get_multiIndex_variablesDict(plain_variablesDict)\n",
    "d = resource.dictionary()\n",
    "q1criteria = []\n",
    "q1query_unified = list()\n",
    "\n",
    "my_query = resource.query()\n",
    "#my_query.filter().add(gender_concept_path, \"male\")\n",
    "my_query.filter().add(diseasedf,age_groups)\n",
    "my_query.filter().add(agedf, age_groups)\n",
    "q1criteria.extend(d.find(\"disease\").keys())\n",
    "q1criteria.extend(d.find(\"\\\\disease\\\\lung_cancer_self_report\").keys())\n",
    "q1criteria.extend(d.find(\"\\\\disease\\\\Current asthma?\").keys())\n",
    "q1criteria.extend(d.find(\"\\\\disease\\\\Ever asthma?\").keys())\n",
    "q1criteria.extend(d.find(\"AGE\").keys())\n",
    "my_query.require().add(q1criteria)\n",
    "df_mf = query_unified.getResultsDataFrame()\n",
    "df_mf\n",
    "\n",
    "measuredf = resource.dictionary().find(\"body measures\").DataFrame()\n",
    "measuredf[measuredf.categorical == False]\n",
    "body_measure_concept_path = measuredf.index[0]\n",
    "body_measure_concept_path\n",
    "\n",
    "fullVariableDict = resource.dictionary().find(\"body measures\")\n",
    "body_measure_df=fullVariableDict.DataFrame()\n",
    "variablesDict = get_multiIndex_variablesDict(body_measure_df)\n",
    "mask_measure = variablesDict.index.get_level_values(1) == \"body measures\"\n",
    "mask_bmi = variablesDict.index.get_level_values(1) == \"Body Mass Index\"\n",
    "mask_pf= variablesDict.index.get_level_values(1) == \"\\\\examination\\\\body measures\\\\physical fitness\"\n",
    "mask_bp = variablesDict.index.get_level_values(1) == \"\\\\examination\\\\physical fitness\\\\blood pressure\"\n",
    "heart_disease_variables = variablesDict.loc[mask_bmi | ~mask_bp ,:]\n",
    "heart_disease_variables\n"
   ]
  },
  {
   "cell_type": "code",
   "execution_count": null,
   "metadata": {},
   "outputs": [],
   "source": [
    "heart_disease_variables"
   ]
  },
  {
   "cell_type": "markdown",
   "metadata": {},
   "source": [
    "# Problem 3"
   ]
  },
  {
   "cell_type": "markdown",
   "metadata": {},
   "source": [
    "Use count queries to show comorbidities between different types of disease. The concept paths related to disease status of each participant are prefixed with \"\\\\questionnaire\\\\disease\\\\\". There are 44 such disease status concept paths and all are categorical concepts."
   ]
  },
  {
   "cell_type": "code",
   "execution_count": null,
   "metadata": {},
   "outputs": [],
   "source": [
    "qdisdf = dictionary.find(\"\\\\questionnaire\\\\disease\").DataFrame()\n",
    "qdisdf=dictionary.find(\"disease\").DataFrame()\n",
    "qdisdf[qdisdf.categorical == True]\n",
    "qdisdf.keys"
   ]
  },
  {
   "cell_type": "code",
   "execution_count": null,
   "metadata": {},
   "outputs": [],
   "source": [
    "bmidf = resource.dictionary().find(\"BMI\").DataFrame()\n",
    "bpdf = resource.dictionary().find(\"BP\").DataFrame()"
   ]
  }
 ],
 "metadata": {
  "kernelspec": {
   "display_name": "Python 3",
   "language": "python",
   "name": "python3"
  },
  "language_info": {
   "codemirror_mode": {
    "name": "ipython",
    "version": 3
   },
   "file_extension": ".py",
   "mimetype": "text/x-python",
   "name": "python",
   "nbconvert_exporter": "python",
   "pygments_lexer": "ipython3",
   "version": "3.8.6"
  }
 },
 "nbformat": 4,
 "nbformat_minor": 4
}
