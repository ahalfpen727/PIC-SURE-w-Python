{
 "cells": [
  {
   "cell_type": "markdown",
   "metadata": {
    "colab_type": "text",
    "id": "V_oh9DspLamP"
   },
   "source": [
    "# ISB-CGC Community Notebooks\n",
    "\n",
    "Check out more notebooks at our [Community Notebooks Repository](https://github.com/isb-cgc/Community-Notebooks)!\n",
    "\n",
    "```\n",
    "Title:   Quick Start Guide to ISB-CGC\n",
    "Author:  Lauren Hagen\n",
    "Created: 2019-06-20\n",
    "Purpose: Painless intro to working in the cloud\n",
    "URL:     https://github.com/isb-cgc/Community-Notebooks/blob/master/Notebooks/Quick_Start_Guide_to_ISB_CGC.ipynb\n",
    "Notes:   \n",
    "```\n",
    "***"
   ]
  },
  {
   "cell_type": "markdown",
   "metadata": {
    "colab_type": "text",
    "id": "35Ew4aYCspKn"
   },
   "source": [
    "# Quick Start Guide to ISB-CGC\n",
    "[ISB-CGC](https://isb-cgc.appspot.com/)\n",
    "\n",
    "This Quick Start Guide is intended give an overview of the data available, to walk you though the steps of setting up your accounts, and get started with a basic example in python. If you have read the R version, you can skip to the Example section.\n",
    "\n",
    "## Access Requirements\n",
    "* Google Account to access ISB-CGC\n",
    "* [Google Cloud Account](https://console.cloud.google.com)\n",
    "* Some knowledge of SQL\n",
    "\n",
    "## Access Suggestions\n",
    "* Favored Programming Language (R or Python)\n",
    "* Favored IDE (RStudio or Jupyter)\n",
    "\n",
    "## Outline for this Notebook\n",
    "* Quick Overview of ISB-CGC\n",
    "* About the Data on ISB-CGC\n",
    "* Overview How to Access Data\n",
    "* Account Set up\n",
    "* ISB-CGC Web Interface\n",
    "* Google Cloud Platform (GCP) and BigQuery Overview\n",
    "* Example of Accessing Data with Python\n",
    "* Where to go next"
   ]
  },
  {
   "cell_type": "markdown",
   "metadata": {
    "colab_type": "text",
    "id": "OAgOtUGpvR5h"
   },
   "source": [
    "## Overview of ISB-CGC\n",
    "The ISB-CGC provides both interactive and programmatic access to\n",
    "data hosted by institutes such as the [Genomic Data Commons (GDC)](https://gdc.cancer.gov/) of the [National Cancer Institute (NCI)](https://www.cancer.gov/) and the [Wellcome Trust Sanger Institute](https://www.sanger.ac.uk/) while leveraging many aspects of the Google Cloud Platform. You can also import your own data to analyze it side by side with the datasets and share your data when you see fit."
   ]
  },
  {
   "cell_type": "code",
   "execution_count": 0,
   "metadata": {
    "cellView": "form",
    "colab": {
     "base_uri": "https://localhost:8080/",
     "height": 421
    },
    "colab_type": "code",
    "id": "C8FMZWeWZhzQ",
    "outputId": "2fc93d29-f09a-4d8b-c1cd-115d655ad593"
   },
   "outputs": [
    {
     "data": {
      "image/jpeg": "[encoded data removed]",
      "text/html": [
       "\n",
       "        <iframe\n",
       "            width=\"600\"\n",
       "            height=\"400\"\n",
       "            src=\"https://www.youtube.com/embed/RQsLKDTciWk\"\n",
       "            frameborder=\"0\"\n",
       "            allowfullscreen\n",
       "        ></iframe>\n",
       "        "
      ],
      "text/plain": [
       "<IPython.lib.display.YouTubeVideo at 0x7f125e35df98>"
      ]
     },
     "execution_count": 1,
     "metadata": {
      "tags": []
     },
     "output_type": "execute_result"
    }
   ],
   "source": [
    "#@title Introduction to ISB-CGC Video\n",
    "#@markdown This 12 minute video goes over an introduction to ISB-CGC\n",
    "from IPython.display import YouTubeVideo\n",
    "YouTubeVideo('RQsLKDTciWk', width=600, height=400)\n",
    "#@markdown For more videos check out: [ISB-CGC Video Tutorial Series](https://isb-cgc.appspot.com/videotutorials/)"
   ]
  },
  {
   "cell_type": "markdown",
   "metadata": {
    "colab_type": "text",
    "id": "Ue2bsjIWu7o3"
   },
   "source": [
    "## About the Data in the Cloud\n",
    "The main data that is hosted on the cloud is [The Cancer Genome Atlas (TCGA)](https://www.cancer.gov/about-nci/organization/ccg/research/structural-genomics/tcga) data which was a large-scale multi-disciplinary collaboration started by the [National Cancer Institute (NCI)](https://www.cancer.gov/) and the [National Human Genome Research Institute (NHGRI)](https://www.genome.gov/). Some of the hosted data types and files include RNA-Seq FASTQ, DNA-Seq and RNA-Seq BAM Files, Genome-Wide SNP6 array CEL files, and Variant-calls in VCF files along with a number of other datasets including data from [Therapeutically Applicable Research to Generate Effective Treatments (TARGET)](https://ocg.cancer.gov/programs/target) and [Cancer Cell Line Encyclopedia (CCLE)](https://depmap.org/portal/ccle/) programs. ISB-CGC hosts several tables in BigQuery with data from the TCGA, TARGET, and CCLE along with reference tables and [Catalogue Of Somatic Mutations In Cancer (COSMIC)](https://cancer.sanger.ac.uk/cosmic) data sets from the [Wellcome Trust Sanger Institute](https://www.sanger.ac.uk/). ISB-CGC is adding more data sets all the time, so if you have suggestions for a datasets to be added please email: [feedback@isb-cgc.org](mailto:feedback@isb-cgc.org)\n",
    "\n",
    "For more information, please visit: [Programs and Data Sets](https://isb-cancer-genomics-cloud.readthedocs.io/en/latest/sections/Hosted-Data.html) and [Data in BigQuery](https://isb-cancer-genomics-cloud.readthedocs.io/en/latest/sections/BigQuery/data_in_BQ.html)"
   ]
  },
  {
   "cell_type": "markdown",
   "metadata": {
    "colab_type": "text",
    "id": "4rbvEDj6xfMT"
   },
   "source": [
    "## Overview of How to Access Data\n",
    "There are several ways to access the Data that is hosted by ISB-CGC. \n",
    "\n",
    "* [ISB-CGC WebApp](https://isb-cgc.appspot.com/)\n",
    "  * Provides a graphical interface to metadata\n",
    "  * Does not require knowledge of programming languages\n",
    "* [ISB-CGC BigQuery Table Search](https://isb-cgc.appspot.com/bq_meta_search/)\n",
    "  * Provides a table search for available ISB-CGC BigQuery Tables\n",
    "  * Does NOT require a login for Google or ISB-CGC to access\n",
    "* [ISB-CGC APIs](https://api-dot-isb-cgc.appspot.com/v4/swagger/)\n",
    "  * Provides programmatic access to metadata\n",
    "* [Google Cloud Platform](https://cloud.google.com/)\n",
    " * Allows you to use GCP APIs such as BigQuery, Cloud Datalab, Colaboratory\n",
    " * Allows you to host your own data on the Cloud\n",
    "* [BigQuery](https://cloud.google.com/bigquery/)\n",
    " * A GCP Allows you to use SQL to access some data\n",
    "* Supported Programming Languages\n",
    " * SQL\n",
    "  * Can be used directly in BigQuery\n",
    " * [Python](https://www.python.org/)\n",
    "  * [gsutil tool](https://cloud.google.com/storage/docs/gsutil) is a Python tool to access data via the command line\n",
    "  * [Jupyter Notebooks](https://jupyter.org/)\n",
    "  * [Google Colabratory](https://colab.research.google.com/)\n",
    "  * [Cloud Datalab](https://cloud.google.com/datalab/)\n",
    " * [R](https://www.r-project.org/)\n",
    "  * [RStudio](https://rstudio.com/)\n",
    "  * [RStudio.Cloud](https://rstudio.cloud/)\n",
    "* Command Line Interfaces\n",
    "  * Cloud Shell via Project Console\n",
    "  * [CLOUD SDK](https://cloud.google.com/sdk/)"
   ]
  },
  {
   "cell_type": "markdown",
   "metadata": {
    "colab_type": "text",
    "id": "Xlx2svEHfLfN"
   },
   "source": [
    "## Account Set-up\n",
    "*If not completed prior to reading this guide*\n",
    "1.   Log in or [create](https://accounts.google.com/signup/v2/webcreateaccount?dsh=308321458437252901&continue=https%3A%2F%2Faccounts.google.com%2FManageAccount&flowName=GlifWebSignIn&flowEntry=SignUp#FirstName=&LastName=) a Gmail account\n",
    "* Can be use your institutional email if it is a Google Identity\n",
    "2.   Create a GCP Project using a GMail account\n",
    "* Required to use all of the data, tools and the Google Cloud\n",
    "* New accounts recieve a one-time allotment of [$300 in Google Credit](https://cloud.google.com/free/)\n",
    " * Google also offers a [Free Tier](https://cloud.google.com/free/) which grants 1 TB of queries a month\n",
    " * Additionally, ISB-CGC offers [$300 in free Cloud Credits](https://isb-cancer-genomics-cloud.readthedocs.io/en/latest/sections/HowtoRequestCloudCredits.html)\n",
    "3.   Authorize your account for dbGaP in the ISB-CGC WebApp (required for viewing controlled access data)\n",
    "* To access controlled data, users must first be authenticated by NIH (via the ISB-CGC\n",
    "web-app). Upon successful authentication, user dbGaP authorization will be verified.\n",
    "These two steps are required before the user’s Google identity is added to the access\n",
    "control list (ACL) for the controlled data. At this time, this access must be renewed every\n",
    "24 hours.\n",
    "* Please view [Accessing Controlled-Access Data](https://isb-cancer-genomics-cloud.readthedocs.io/en/latest/sections/Gaining-Access-To-Controlled-Access-Data.html) if you need help with this step.\n",
    "4.   Register your GCP project in the ISB-CGC WebApp\n",
    "* Please view [Registering your Google Cloud Project Service Account](https://isb-cancer-genomics-cloud.readthedocs.io/en/latest/sections/webapp/Gaining-Access-To-Contolled-Access-Data.html#requirements-for-registering-a-google-cloud-project-service-account) if you need help with this step.\n",
    "5.   Enable the following required Google Cloud APIs:\n",
    " * Google Compute Engine\n",
    " * Google Genomics\n",
    " * Google BigQuery\n",
    " * Google Cloud Logging\n",
    " * Google Cloud Pub/Sub\n",
    "* [Google Tutorial on Enabling/Disabling GC APIs](https://cloud.google.com/apis/docs/enable-disable-apis)\n",
    "6. Install optional software such as:\n",
    " * [Cloud SDK](https://cloud.google.com/sdk/)\n",
    " * [Anaconda Python](https://www.anaconda.com/distribution/)\n",
    " * [Jupyter Notebook](https://jupyter.org/)\n",
    " * [R](https://cran.r-project.org/)\n",
    " * [RStudio](https://www.rstudio.com/)\n",
    " * [Chrome](https://www.google.com/chrome/)\n",
    " * [Docker](https://www.docker.com/)\n",
    " "
   ]
  },
  {
   "cell_type": "markdown",
   "metadata": {
    "colab_type": "text",
    "id": "UI5UpdyaeS2v"
   },
   "source": [
    "## ISB-CGC Web Interface\n",
    "The ISB-CGC Web Interface is an [interactive web-based application](https://isb-cgc.appspot.com/) to access and explore the rich TCGA, TARGET, and CCLE datasets with more datasets being added regularly. Through the WebApp you can create Cohorts, lists of Favorite Genes, miRNA, and Variables. The Cohorts and Variables can be used in Workbooks to allow you to quickly analyze and export datasets by mixing and matching the selections. The ISB-CGC Web Interface also allows you to view and analyze available pathology and radiology images associated with selected cohort data."
   ]
  },
  {
   "cell_type": "markdown",
   "metadata": {
    "colab_type": "text",
    "id": "c1bk7F_-uuYp"
   },
   "source": [
    "## Google Cloud Platform and BigQuery Overview\n",
    "The [Google Cloud Platform Console](https://console.cloud.google.com/) is the web-based interface to  your GCP Project. From the Console, you can check the overall status of your project, create and delete Cloud Storage buckets, upload and download files, spin up and shut down VMs, add members to your project, acces the [Cloud Shell command line](https://cloud.google.com/shell/docs/), etc. Click [here](https://raw.githubusercontent.com/isb-cgc/readthedocs/master/docs/include/intro_to_Console.pdf) to download a quick tour from ISB-CGC of the GCP Console. You'll want to remember that any costs that you incur are charged under your *current* project, so you will want to make sure you are on the correct one if you are part of multiple projects. [Here](https://isb-cancer-genomics-cloud.readthedocs.io/en/latest/sections/DIYWorkshop.html#google-cloud-platform-console) is how to check which project is your *current* project.\n",
    "\n",
    "\"BigQuery is a serverless, highly-scalable, and cost-effective cloud data warehouse with an in-memory BI Engine and machine learning built in.\" [*Source*](https://cloud.google.com/bigquery/) ISB-CGC has uploaded multiple cancer genomic datasets into BigQuery tables that are open-source such as TCGA and TARGET Clinical, Biospecimen and Molecular Data along with dataset megadata. This data can be accessed from the Google Cloud Platform Console web-UI, programmatically with R, and programmatically with python through Cloud Datalab or Colab. Check out our [Community Notebook Repository](https://isb-cancer-genomics-cloud.readthedocs.io/en/latest/sections/HowTos.html) for example notebooks."
   ]
  },
  {
   "cell_type": "markdown",
   "metadata": {
    "colab_type": "text",
    "id": "FLkFocDF265b"
   },
   "source": [
    "## Example of Accessing Data with Python\n"
   ]
  },
  {
   "cell_type": "markdown",
   "metadata": {
    "colab_type": "text",
    "id": "uwUePpm5uLNS"
   },
   "source": [
    "### Log into Google Cloud Storage and Authenticate ourselves\n",
    "1. Authenticate yourself with your Google Cloud Login\n",
    "2. A second tab will open or follow the link provided\n",
    "3. Follow prompts to Authorize your account to use Google Cloud SDK\n",
    "4. Copy code provided and paste into the box under the Command\n",
    "5. Press Enter\n",
    "\n",
    "Alternatives for Authentication can be found [here](https://googleapis.github.io/google-cloud-python/latest/core/auth.html)"
   ]
  },
  {
   "cell_type": "code",
   "execution_count": 0,
   "metadata": {
    "colab": {
     "base_uri": "https://localhost:8080/",
     "height": 360
    },
    "colab_type": "code",
    "id": "CzjAwn9w3Ghc",
    "outputId": "7b61026c-a807-4356-f124-e1a406e6c91a"
   },
   "outputs": [
    {
     "name": "stdout",
     "output_type": "stream",
     "text": [
      "Go to the following link in your browser:\n",
      "\n",
      "    https://accounts.google.com/o/oauth2/auth?redirect_uri=urn%3Aietf%3Awg%3Aoauth%3A2.0%3Aoob&prompt=select_account&response_type=code&client_id=764086051850-6qr4p6gpi6hn506pt8ejuq83di341hur.apps.googleusercontent.com&scope=https%3A%2F%2Fwww.googleapis.com%2Fauth%2Fuserinfo.email+https%3A%2F%2Fwww.googleapis.com%2Fauth%2Fcloud-platform&access_type=offline\n",
      "\n",
      "\n",
      "Enter verification code: 4/XQGk8wtHV404M8mfwbkdcZjmj-DpxkeKCnUvD3hh4y8XCWa00jfNoww\n",
      "\n",
      "Credentials saved to file: [/content/.config/application_default_credentials.json]\n",
      "\n",
      "These credentials will be used by any library that requests\n",
      "Application Default Credentials.\n",
      "\n",
      "To generate an access token for other uses, run:\n",
      "  gcloud auth application-default print-access-token\n",
      "\n",
      "\n",
      "To take a quick anonymous survey, run:\n",
      "  $ gcloud alpha survey\n",
      "\n"
     ]
    }
   ],
   "source": [
    "# Run a command line command with the bang (!) and gcloud\n",
    "!gcloud auth application-default login "
   ]
  },
  {
   "cell_type": "markdown",
   "metadata": {
    "colab_type": "text",
    "id": "lqtslyr2zNTA"
   },
   "source": [
    "### View Datasets and Tables in BigQuery\n",
    "Let us look at the datasets available through ISB-CGC that are in BigQuery. You will need to load the BigQuery API and set the client [(click here for more information)](https://googleapis.github.io/google-cloud-python/latest/bigquery/usage/client.html)."
   ]
  },
  {
   "cell_type": "code",
   "execution_count": 0,
   "metadata": {
    "colab": {
     "base_uri": "https://localhost:8080/",
     "height": 364
    },
    "colab_type": "code",
    "id": "usDiQye0PWPF",
    "outputId": "15ceedeb-6275-4623-cf37-bbd6da3a7650"
   },
   "outputs": [
    {
     "name": "stdout",
     "output_type": "stream",
     "text": [
      "Datasets in project isb-cgc:\n",
      "\tCCLE_bioclin_v0\n",
      "\tGDC_metadata\n",
      "\tGTEx_v7\n",
      "\tQotM\n",
      "\tTARGET_bioclin_v0\n",
      "\tTARGET_hg38_data_v0\n",
      "\tTCGA_bioclin_v0\n",
      "\tTCGA_hg19_data_v0\n",
      "\tTCGA_hg38_data_v0\n",
      "\tToil_recompute\n",
      "\tccle_201602_alpha\n",
      "\tgenome_reference\n",
      "\thg19_data_previews\n",
      "\thg38_data_previews\n",
      "\tmetadata\n",
      "\tplatform_reference\n",
      "\ttcga_201607_beta\n",
      "\ttcga_cohorts\n",
      "\ttcga_seq_metadata\n"
     ]
    }
   ],
   "source": [
    "\n",
    "# Load BigQuery API\n",
    "from google.cloud import bigquery\n",
    "\n",
    "# Create a client to access the data within BigQuery\n",
    "client = bigquery.Client('isb-cgc')\n",
    "\n",
    "# Create a variable of datasets \n",
    "datasets = list(client.list_datasets())\n",
    "# Create a variable for the name of the project\n",
    "project = client.project\n",
    "\n",
    "# If there are datasets available then print their names,\n",
    "# else print that there are no data sets available\n",
    "if datasets:\n",
    "    print(\"Datasets in project {}:\".format(project))\n",
    "    for dataset in datasets:  # API request(s)\n",
    "        print(\"\\t{}\".format(dataset.dataset_id))\n",
    "else:\n",
    "    print(\"{} project does not contain any datasets.\".format(project))"
   ]
  },
  {
   "cell_type": "markdown",
   "metadata": {
    "colab_type": "text",
    "id": "dcKkXP0H8W6I"
   },
   "source": [
    "Let us see which tables are under the TCGA_bioclin_v0 dataset."
   ]
  },
  {
   "cell_type": "code",
   "execution_count": 0,
   "metadata": {
    "colab": {
     "base_uri": "https://localhost:8080/",
     "height": 85
    },
    "colab_type": "code",
    "id": "IZ_Odw0z1fOn",
    "outputId": "60e16a24-836e-4a7d-87a3-7e1251b24356"
   },
   "outputs": [
    {
     "name": "stdout",
     "output_type": "stream",
     "text": [
      "Tables:\n",
      "\tAnnotations\n",
      "\tBiospecimen\n",
      "\tClinical\n"
     ]
    }
   ],
   "source": [
    "print(\"Tables:\")\n",
    "# Create a variable with the list of tables in the dataset\n",
    "tables = list(client.list_tables('isb-cgc.TCGA_bioclin_v0'))\n",
    "\n",
    "# If there are tables then print their names,\n",
    "# else print that there are no tables\n",
    "if tables:\n",
    "    for table in tables:\n",
    "        print(\"\\t{}\".format(table.table_id))\n",
    "else:\n",
    "    print(\"\\tThis dataset does not contain any tables.\")"
   ]
  },
  {
   "cell_type": "markdown",
   "metadata": {
    "colab_type": "text",
    "id": "mjXF-Vg4z5mv"
   },
   "source": [
    "### Access BigQuery to call a table\n"
   ]
  },
  {
   "cell_type": "markdown",
   "metadata": {
    "colab_type": "text",
    "id": "GjCNNGweyyCE"
   },
   "source": [
    "First you'll want to call to BigQuery with a magic command and then you can use Standard SQL to write your query. Click [here](https://googleapis.github.io/google-cloud-python/latest/bigquery/magics.html) for more on IPython Magic Commands for BigQuery. The result will be a [Pandas Dataframe](https://pandas.pydata.org/)."
   ]
  },
  {
   "cell_type": "code",
   "execution_count": 0,
   "metadata": {
    "colab": {
     "base_uri": "https://localhost:8080/",
     "height": 204
    },
    "colab_type": "code",
    "id": "TYf4eBOKnKEz",
    "outputId": "fd105f87-1aec-4b95-af4c-3d1e75b99b90"
   },
   "outputs": [
    {
     "data": {
      "text/html": [
       "<div>\n",
       "<style scoped>\n",
       "    .dataframe tbody tr th:only-of-type {\n",
       "        vertical-align: middle;\n",
       "    }\n",
       "\n",
       "    .dataframe tbody tr th {\n",
       "        vertical-align: top;\n",
       "    }\n",
       "\n",
       "    .dataframe thead th {\n",
       "        text-align: right;\n",
       "    }\n",
       "</style>\n",
       "<table border=\"1\" class=\"dataframe\">\n",
       "  <thead>\n",
       "    <tr style=\"text-align: right;\">\n",
       "      <th></th>\n",
       "      <th>program_name</th>\n",
       "      <th>case_barcode</th>\n",
       "      <th>project_short_name</th>\n",
       "    </tr>\n",
       "  </thead>\n",
       "  <tbody>\n",
       "    <tr>\n",
       "      <th>0</th>\n",
       "      <td>TCGA</td>\n",
       "      <td>TCGA-01-0628</td>\n",
       "      <td>TCGA-OV</td>\n",
       "    </tr>\n",
       "    <tr>\n",
       "      <th>1</th>\n",
       "      <td>TCGA</td>\n",
       "      <td>TCGA-01-0630</td>\n",
       "      <td>TCGA-OV</td>\n",
       "    </tr>\n",
       "    <tr>\n",
       "      <th>2</th>\n",
       "      <td>TCGA</td>\n",
       "      <td>TCGA-01-0631</td>\n",
       "      <td>TCGA-OV</td>\n",
       "    </tr>\n",
       "    <tr>\n",
       "      <th>3</th>\n",
       "      <td>TCGA</td>\n",
       "      <td>TCGA-01-0633</td>\n",
       "      <td>TCGA-OV</td>\n",
       "    </tr>\n",
       "    <tr>\n",
       "      <th>4</th>\n",
       "      <td>TCGA</td>\n",
       "      <td>TCGA-01-0636</td>\n",
       "      <td>TCGA-OV</td>\n",
       "    </tr>\n",
       "  </tbody>\n",
       "</table>\n",
       "</div>"
      ],
      "text/plain": [
       "  program_name  case_barcode project_short_name\n",
       "0         TCGA  TCGA-01-0628            TCGA-OV\n",
       "1         TCGA  TCGA-01-0630            TCGA-OV\n",
       "2         TCGA  TCGA-01-0631            TCGA-OV\n",
       "3         TCGA  TCGA-01-0633            TCGA-OV\n",
       "4         TCGA  TCGA-01-0636            TCGA-OV"
      ]
     },
     "execution_count": 5,
     "metadata": {
      "tags": []
     },
     "output_type": "execute_result"
    }
   ],
   "source": [
    "# Call to BigQuery with a magic command\n",
    "# and replace PROJECT_ID with your project ID Number\n",
    "%%bigquery --project PROJECT_ID\n",
    "SELECT # Select a few columns to view\n",
    "  program_name,\n",
    "  case_barcode,\n",
    "  project_short_name\n",
    "FROM # From the TCGA Clinical Dataset\n",
    "  `isb-cgc.TCGA_bioclin_v0.Clinical`\n",
    "LIMIT # Limit to 5 rows as the dataset is very large and we only want to see a few results\n",
    "  5\n",
    "\n",
    "# Syntax for the above query\n",
    "# SELECT * \n",
    "# FROM `project_name.dataset_name.INFORMATION_SCHEMA.COLUMNS`\n",
    "# Limit to the first 5 fields"
   ]
  },
  {
   "cell_type": "markdown",
   "metadata": {
    "colab_type": "text",
    "id": "XBHrxYK_1v6f"
   },
   "source": [
    "Now that wasn't so difficult! Have fun exploring and analyzing the ISB-CGC Data!"
   ]
  },
  {
   "cell_type": "markdown",
   "metadata": {
    "colab_type": "text",
    "id": "vcRchKFAuiz5"
   },
   "source": [
    "## Where to Go Next\n",
    "\n",
    "Explore, Discover, and Analyze the Data provided by ISB-CGC along with side by side with your own! :)\n",
    "\n",
    "ISB-CGC Links:\n",
    "\n",
    "* [ISB-CGC Landing Page](https://isb-cgc.appspot.com/)\n",
    "* [ISB-CGC Documentation](https://isb-cancer-genomics-cloud.readthedocs.io/en/latest/)\n",
    "* [How to Get Started on ISB-CGC](https://isb-cancer-genomics-cloud.readthedocs.io/en/latest/sections/HowToGetStartedonISB-CGC.html)\n",
    "* [How to access Google BigQuery](https://isb-cancer-genomics-cloud.readthedocs.io/en/latest/sections/progapi/bigqueryGUI/HowToAccessBigQueryFromTheGoogleCloudPlatform.html)\n",
    "* [Community Notebook Repository](https://isb-cancer-genomics-cloud.readthedocs.io/en/latest/sections/HowTos.html)\n",
    "* [Query of the Month](https://isb-cancer-genomics-cloud.readthedocs.io/en/latest/sections/QueryOfTheMonthClub.html)\n",
    "* [Quick Links](https://isb-cancer-genomics-cloud.readthedocs.io/en/latest/sections/QuicklinksOneTable.html)\n",
    "\n",
    "Google Tutorials:\n",
    "\n",
    "* [Google's What is BigQuery?](https://cloud.google.com/bigquery/what-is-bigquery)\n",
    "* [Google Cloud Client Library for Python](https://googleapis.github.io/google-cloud-python/latest/index.html)"
   ]
  }
 ],
 "metadata": {
  "colab": {
   "collapsed_sections": [],
   "name": "Quick Start Guide to ISB-CGC.ipynb",
   "provenance": []
  },
  "kernelspec": {
   "display_name": "Python 3",
   "language": "python",
   "name": "python3"
  },
  "language_info": {
   "codemirror_mode": {
    "name": "ipython",
    "version": 3
   },
   "file_extension": ".py",
   "mimetype": "text/x-python",
   "name": "python",
   "nbconvert_exporter": "python",
   "pygments_lexer": "ipython3",
   "version": "3.7.3"
  }
 },
 "nbformat": 4,
 "nbformat_minor": 1
}
